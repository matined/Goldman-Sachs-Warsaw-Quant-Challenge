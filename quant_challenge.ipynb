{
 "cells": [
  {
   "cell_type": "markdown",
   "metadata": {},
   "source": [
    "# Goldman Sachs Warsaw Quant Challenge\n",
    "\n",
    "After many experiments and research I decided to use data augmentation. This solution takes the original training dataset and augment it in order to obtain thousands of examples where either offered price is much bigger than a \"threshold\" selling price or much smaller than the \"threshold\". Labels are 'true' and 'false respectively.\n",
    "\n",
    "### Table of contents:\n",
    "1. [Data Exploration](#section_1)\n",
    "   1. [Load Data](#section_1_1)\n",
    "   2. [Data Distribution](#section_1_2)\n",
    "   3. [Pandas-profiling](#section_1_3)\n",
    "2. [Data Preprocessing](#section_2)\n",
    "   1. [Remove Duplicate Rows](#section_2_1)\n",
    "   2. [Tokenize Countries](#section_2_1)\n",
    "   3. [Data Augmentation](#section_2_1)\n",
    "   4. [Extract mean and standard deviation](#section_2_1)\n",
    "   5. [Create train and cross-validation sets](#section_2_1)\n",
    "3. [DNN Model](#section_3)\n",
    "   1. [Normalization Layer](#section_3_1)\n",
    "   2. [Model Definition](#section_3_2)\n",
    "   3. [Brier Skill Score - metric and loss](#section_3_3)\n",
    "   4. [Train](#section_3_4)\n",
    "      + [Model 1 - reLu + RMSprop](#section_3_4_1)\n",
    "      + [Model 2 - reLu + Adam](#section_3_4_2)\n",
    "      + [Model 3 - tanh + RMSprop](#section_3_4_3)\n",
    "      + [Model 4 - tanh + Adam](#section_3_4_4)\n",
    "   5. [Evaluate and test](#section_3_5)\n",
    "   6. [Summary](#section_3_6)\n",
    "   7. [Check Monotonicity](#section_3_7)\n",
    "4. [Submission](#section_4)\n",
    "   1. [Load Test Data](#section_4_1)\n",
    "   2. [Tokenize Countries](#section_4_2)\n",
    "   3. [Predict and Save](#section_4_3)\n",
    "5. [Histogram Gradient Boosting (additional solution)]()"
   ]
  },
  {
   "cell_type": "markdown",
   "metadata": {},
   "source": [
    "### imports "
   ]
  },
  {
   "cell_type": "code",
   "execution_count": 1,
   "metadata": {},
   "outputs": [],
   "source": [
    "import pandas as pd\n",
    "import numpy as np\n",
    "import sklearn\n",
    "from sklearn.model_selection import train_test_split\n",
    "import seaborn as sns\n",
    "import matplotlib.pyplot as plt\n",
    "\n",
    "import tensorflow as tf\n",
    "from tensorflow.keras.preprocessing.text import Tokenizer\n",
    "from tensorflow.keras.layers import Dense, BatchNormalization\n",
    "from tensorflow.keras.metrics import Recall, Precision, Accuracy\n",
    "from tensorflow.keras.activations import relu, tanh\n"
   ]
  },
  {
   "cell_type": "markdown",
   "metadata": {},
   "source": [
    "## 1. Data Exploration <a class=\"anchor\" id=\"section_1\"></a>"
   ]
  },
  {
   "cell_type": "markdown",
   "metadata": {},
   "source": [
    "### 1.1. Load Data <a class=\"anchor\" id=\"section_1_1\"></a>"
   ]
  },
  {
   "cell_type": "code",
   "execution_count": 2,
   "metadata": {},
   "outputs": [
    {
     "data": {
      "text/html": [
       "<div>\n",
       "<style scoped>\n",
       "    .dataframe tbody tr th:only-of-type {\n",
       "        vertical-align: middle;\n",
       "    }\n",
       "\n",
       "    .dataframe tbody tr th {\n",
       "        vertical-align: top;\n",
       "    }\n",
       "\n",
       "    .dataframe thead th {\n",
       "        text-align: right;\n",
       "    }\n",
       "</style>\n",
       "<table border=\"1\" class=\"dataframe\">\n",
       "  <thead>\n",
       "    <tr style=\"text-align: right;\">\n",
       "      <th></th>\n",
       "      <th>Won</th>\n",
       "      <th>Price</th>\n",
       "      <th>Coupon</th>\n",
       "      <th>Notional</th>\n",
       "      <th>Maturity</th>\n",
       "      <th>Sensitivity</th>\n",
       "      <th>Liquidity</th>\n",
       "      <th>Complexity</th>\n",
       "      <th>ParticipantCount</th>\n",
       "      <th>Country</th>\n",
       "    </tr>\n",
       "  </thead>\n",
       "  <tbody>\n",
       "    <tr>\n",
       "      <th>0</th>\n",
       "      <td>False</td>\n",
       "      <td>173.989506</td>\n",
       "      <td>36.619581</td>\n",
       "      <td>7190.303746</td>\n",
       "      <td>5801.393623</td>\n",
       "      <td>12.861949</td>\n",
       "      <td>-11</td>\n",
       "      <td>30.331649</td>\n",
       "      <td>74</td>\n",
       "      <td>ITALY</td>\n",
       "    </tr>\n",
       "    <tr>\n",
       "      <th>1</th>\n",
       "      <td>False</td>\n",
       "      <td>154.434297</td>\n",
       "      <td>-14.493572</td>\n",
       "      <td>3907.754648</td>\n",
       "      <td>3117.677959</td>\n",
       "      <td>6.632008</td>\n",
       "      <td>0</td>\n",
       "      <td>26.388674</td>\n",
       "      <td>75</td>\n",
       "      <td>GERMANY</td>\n",
       "    </tr>\n",
       "    <tr>\n",
       "      <th>2</th>\n",
       "      <td>True</td>\n",
       "      <td>140.306546</td>\n",
       "      <td>-5.156848</td>\n",
       "      <td>1748.478438</td>\n",
       "      <td>1390.654047</td>\n",
       "      <td>1.066665</td>\n",
       "      <td>3</td>\n",
       "      <td>13.911858</td>\n",
       "      <td>73</td>\n",
       "      <td>FRANCE</td>\n",
       "    </tr>\n",
       "    <tr>\n",
       "      <th>3</th>\n",
       "      <td>False</td>\n",
       "      <td>136.185397</td>\n",
       "      <td>36.380886</td>\n",
       "      <td>2876.694033</td>\n",
       "      <td>2325.175004</td>\n",
       "      <td>-10.913600</td>\n",
       "      <td>4</td>\n",
       "      <td>-1.299865</td>\n",
       "      <td>100</td>\n",
       "      <td>NETHERLANDS</td>\n",
       "    </tr>\n",
       "    <tr>\n",
       "      <th>4</th>\n",
       "      <td>False</td>\n",
       "      <td>122.707273</td>\n",
       "      <td>1.697044</td>\n",
       "      <td>2097.140765</td>\n",
       "      <td>1690.196841</td>\n",
       "      <td>9.976876</td>\n",
       "      <td>5</td>\n",
       "      <td>-24.816807</td>\n",
       "      <td>69</td>\n",
       "      <td>FRANCE</td>\n",
       "    </tr>\n",
       "    <tr>\n",
       "      <th>5</th>\n",
       "      <td>True</td>\n",
       "      <td>184.950985</td>\n",
       "      <td>22.665973</td>\n",
       "      <td>9515.455096</td>\n",
       "      <td>2535.414520</td>\n",
       "      <td>44.538466</td>\n",
       "      <td>-8</td>\n",
       "      <td>-32.587171</td>\n",
       "      <td>62</td>\n",
       "      <td>AUSTRIA</td>\n",
       "    </tr>\n",
       "    <tr>\n",
       "      <th>6</th>\n",
       "      <td>False</td>\n",
       "      <td>124.534103</td>\n",
       "      <td>-13.060869</td>\n",
       "      <td>10462.362080</td>\n",
       "      <td>2770.476943</td>\n",
       "      <td>-26.546683</td>\n",
       "      <td>18</td>\n",
       "      <td>-9.935466</td>\n",
       "      <td>68</td>\n",
       "      <td>GERMANY</td>\n",
       "    </tr>\n",
       "    <tr>\n",
       "      <th>7</th>\n",
       "      <td>False</td>\n",
       "      <td>154.383021</td>\n",
       "      <td>0.671142</td>\n",
       "      <td>7431.831181</td>\n",
       "      <td>1980.909118</td>\n",
       "      <td>-2.613285</td>\n",
       "      <td>10</td>\n",
       "      <td>-30.622396</td>\n",
       "      <td>56</td>\n",
       "      <td>GERMANY</td>\n",
       "    </tr>\n",
       "    <tr>\n",
       "      <th>8</th>\n",
       "      <td>False</td>\n",
       "      <td>121.444771</td>\n",
       "      <td>-11.062128</td>\n",
       "      <td>7645.392635</td>\n",
       "      <td>2023.554527</td>\n",
       "      <td>-31.970024</td>\n",
       "      <td>23</td>\n",
       "      <td>-8.898941</td>\n",
       "      <td>64</td>\n",
       "      <td>SPAIN</td>\n",
       "    </tr>\n",
       "    <tr>\n",
       "      <th>9</th>\n",
       "      <td>False</td>\n",
       "      <td>129.678933</td>\n",
       "      <td>16.997186</td>\n",
       "      <td>7194.589100</td>\n",
       "      <td>1889.104131</td>\n",
       "      <td>31.091381</td>\n",
       "      <td>-8</td>\n",
       "      <td>38.575082</td>\n",
       "      <td>87</td>\n",
       "      <td>AUSTRIA</td>\n",
       "    </tr>\n",
       "  </tbody>\n",
       "</table>\n",
       "</div>"
      ],
      "text/plain": [
       "     Won       Price     Coupon      Notional     Maturity  Sensitivity  \\\n",
       "0  False  173.989506  36.619581   7190.303746  5801.393623    12.861949   \n",
       "1  False  154.434297 -14.493572   3907.754648  3117.677959     6.632008   \n",
       "2   True  140.306546  -5.156848   1748.478438  1390.654047     1.066665   \n",
       "3  False  136.185397  36.380886   2876.694033  2325.175004   -10.913600   \n",
       "4  False  122.707273   1.697044   2097.140765  1690.196841     9.976876   \n",
       "5   True  184.950985  22.665973   9515.455096  2535.414520    44.538466   \n",
       "6  False  124.534103 -13.060869  10462.362080  2770.476943   -26.546683   \n",
       "7  False  154.383021   0.671142   7431.831181  1980.909118    -2.613285   \n",
       "8  False  121.444771 -11.062128   7645.392635  2023.554527   -31.970024   \n",
       "9  False  129.678933  16.997186   7194.589100  1889.104131    31.091381   \n",
       "\n",
       "   Liquidity  Complexity  ParticipantCount      Country  \n",
       "0        -11   30.331649                74        ITALY  \n",
       "1          0   26.388674                75      GERMANY  \n",
       "2          3   13.911858                73       FRANCE  \n",
       "3          4   -1.299865               100  NETHERLANDS  \n",
       "4          5  -24.816807                69       FRANCE  \n",
       "5         -8  -32.587171                62      AUSTRIA  \n",
       "6         18   -9.935466                68      GERMANY  \n",
       "7         10  -30.622396                56      GERMANY  \n",
       "8         23   -8.898941                64        SPAIN  \n",
       "9         -8   38.575082                87      AUSTRIA  "
      ]
     },
     "execution_count": 2,
     "metadata": {},
     "output_type": "execute_result"
    }
   ],
   "source": [
    "trainingDataFrame = pd.read_csv('train_final.csv')\n",
    "trainingDataFrame.head(10)"
   ]
  },
  {
   "cell_type": "code",
   "execution_count": 3,
   "metadata": {},
   "outputs": [],
   "source": [
    "y = pd.get_dummies(trainingDataFrame.Country, prefix='Country')"
   ]
  },
  {
   "cell_type": "markdown",
   "metadata": {},
   "source": [
    "### 1.2. Data Distribution <a class=\"anchor\" id=\"section_1_2\"></a>"
   ]
  },
  {
   "cell_type": "code",
   "execution_count": 19,
   "metadata": {},
   "outputs": [
    {
     "ename": "KeyboardInterrupt",
     "evalue": "",
     "output_type": "error",
     "traceback": [
      "\u001b[0;31m---------------------------------------------------------------------------\u001b[0m",
      "\u001b[0;31mKeyboardInterrupt\u001b[0m                         Traceback (most recent call last)",
      "\u001b[1;32m/home/matined/Desktop/Goldman-Sachs-Warsaw-Quant-Challenge/quant_challenge.ipynb Cell 10'\u001b[0m in \u001b[0;36m<cell line: 1>\u001b[0;34m()\u001b[0m\n\u001b[0;32m----> <a href='vscode-notebook-cell:/home/matined/Desktop/Goldman-Sachs-Warsaw-Quant-Challenge/quant_challenge.ipynb#ch0000007?line=0'>1</a>\u001b[0m ax \u001b[39m=\u001b[39m sns\u001b[39m.\u001b[39;49mpairplot(trainingDataFrame, hue\u001b[39m=\u001b[39;49m\u001b[39m\"\u001b[39;49m\u001b[39mWon\u001b[39;49m\u001b[39m\"\u001b[39;49m)\n",
      "File \u001b[0;32m~/anaconda3/envs/quant/lib/python3.9/site-packages/seaborn/_decorators.py:46\u001b[0m, in \u001b[0;36m_deprecate_positional_args.<locals>.inner_f\u001b[0;34m(*args, **kwargs)\u001b[0m\n\u001b[1;32m     <a href='file:///home/matined/anaconda3/envs/quant/lib/python3.9/site-packages/seaborn/_decorators.py?line=35'>36</a>\u001b[0m     warnings\u001b[39m.\u001b[39mwarn(\n\u001b[1;32m     <a href='file:///home/matined/anaconda3/envs/quant/lib/python3.9/site-packages/seaborn/_decorators.py?line=36'>37</a>\u001b[0m         \u001b[39m\"\u001b[39m\u001b[39mPass the following variable\u001b[39m\u001b[39m{}\u001b[39;00m\u001b[39m as \u001b[39m\u001b[39m{}\u001b[39;00m\u001b[39mkeyword arg\u001b[39m\u001b[39m{}\u001b[39;00m\u001b[39m: \u001b[39m\u001b[39m{}\u001b[39;00m\u001b[39m. \u001b[39m\u001b[39m\"\u001b[39m\n\u001b[1;32m     <a href='file:///home/matined/anaconda3/envs/quant/lib/python3.9/site-packages/seaborn/_decorators.py?line=37'>38</a>\u001b[0m         \u001b[39m\"\u001b[39m\u001b[39mFrom version 0.12, the only valid positional argument \u001b[39m\u001b[39m\"\u001b[39m\n\u001b[0;32m   (...)\u001b[0m\n\u001b[1;32m     <a href='file:///home/matined/anaconda3/envs/quant/lib/python3.9/site-packages/seaborn/_decorators.py?line=42'>43</a>\u001b[0m         \u001b[39mFutureWarning\u001b[39;00m\n\u001b[1;32m     <a href='file:///home/matined/anaconda3/envs/quant/lib/python3.9/site-packages/seaborn/_decorators.py?line=43'>44</a>\u001b[0m     )\n\u001b[1;32m     <a href='file:///home/matined/anaconda3/envs/quant/lib/python3.9/site-packages/seaborn/_decorators.py?line=44'>45</a>\u001b[0m kwargs\u001b[39m.\u001b[39mupdate({k: arg \u001b[39mfor\u001b[39;00m k, arg \u001b[39min\u001b[39;00m \u001b[39mzip\u001b[39m(sig\u001b[39m.\u001b[39mparameters, args)})\n\u001b[0;32m---> <a href='file:///home/matined/anaconda3/envs/quant/lib/python3.9/site-packages/seaborn/_decorators.py?line=45'>46</a>\u001b[0m \u001b[39mreturn\u001b[39;00m f(\u001b[39m*\u001b[39;49m\u001b[39m*\u001b[39;49mkwargs)\n",
      "File \u001b[0;32m~/anaconda3/envs/quant/lib/python3.9/site-packages/seaborn/axisgrid.py:2140\u001b[0m, in \u001b[0;36mpairplot\u001b[0;34m(data, hue, hue_order, palette, vars, x_vars, y_vars, kind, diag_kind, markers, height, aspect, corner, dropna, plot_kws, diag_kws, grid_kws, size)\u001b[0m\n\u001b[1;32m   <a href='file:///home/matined/anaconda3/envs/quant/lib/python3.9/site-packages/seaborn/axisgrid.py?line=2137'>2138</a>\u001b[0m \u001b[39mif\u001b[39;00m kind \u001b[39m==\u001b[39m \u001b[39m\"\u001b[39m\u001b[39mscatter\u001b[39m\u001b[39m\"\u001b[39m:\n\u001b[1;32m   <a href='file:///home/matined/anaconda3/envs/quant/lib/python3.9/site-packages/seaborn/axisgrid.py?line=2138'>2139</a>\u001b[0m     \u001b[39mfrom\u001b[39;00m \u001b[39m.\u001b[39;00m\u001b[39mrelational\u001b[39;00m \u001b[39mimport\u001b[39;00m scatterplot  \u001b[39m# Avoid circular import\u001b[39;00m\n\u001b[0;32m-> <a href='file:///home/matined/anaconda3/envs/quant/lib/python3.9/site-packages/seaborn/axisgrid.py?line=2139'>2140</a>\u001b[0m     plotter(scatterplot, \u001b[39m*\u001b[39;49m\u001b[39m*\u001b[39;49mplot_kws)\n\u001b[1;32m   <a href='file:///home/matined/anaconda3/envs/quant/lib/python3.9/site-packages/seaborn/axisgrid.py?line=2140'>2141</a>\u001b[0m \u001b[39melif\u001b[39;00m kind \u001b[39m==\u001b[39m \u001b[39m\"\u001b[39m\u001b[39mreg\u001b[39m\u001b[39m\"\u001b[39m:\n\u001b[1;32m   <a href='file:///home/matined/anaconda3/envs/quant/lib/python3.9/site-packages/seaborn/axisgrid.py?line=2141'>2142</a>\u001b[0m     \u001b[39mfrom\u001b[39;00m \u001b[39m.\u001b[39;00m\u001b[39mregression\u001b[39;00m \u001b[39mimport\u001b[39;00m regplot  \u001b[39m# Avoid circular import\u001b[39;00m\n",
      "File \u001b[0;32m~/anaconda3/envs/quant/lib/python3.9/site-packages/seaborn/axisgrid.py:1387\u001b[0m, in \u001b[0;36mPairGrid.map_offdiag\u001b[0;34m(self, func, **kwargs)\u001b[0m\n\u001b[1;32m   <a href='file:///home/matined/anaconda3/envs/quant/lib/python3.9/site-packages/seaborn/axisgrid.py?line=1375'>1376</a>\u001b[0m \u001b[39m\"\"\"Plot with a bivariate function on the off-diagonal subplots.\u001b[39;00m\n\u001b[1;32m   <a href='file:///home/matined/anaconda3/envs/quant/lib/python3.9/site-packages/seaborn/axisgrid.py?line=1376'>1377</a>\u001b[0m \n\u001b[1;32m   <a href='file:///home/matined/anaconda3/envs/quant/lib/python3.9/site-packages/seaborn/axisgrid.py?line=1377'>1378</a>\u001b[0m \u001b[39mParameters\u001b[39;00m\n\u001b[0;32m   (...)\u001b[0m\n\u001b[1;32m   <a href='file:///home/matined/anaconda3/envs/quant/lib/python3.9/site-packages/seaborn/axisgrid.py?line=1383'>1384</a>\u001b[0m \n\u001b[1;32m   <a href='file:///home/matined/anaconda3/envs/quant/lib/python3.9/site-packages/seaborn/axisgrid.py?line=1384'>1385</a>\u001b[0m \u001b[39m\"\"\"\u001b[39;00m\n\u001b[1;32m   <a href='file:///home/matined/anaconda3/envs/quant/lib/python3.9/site-packages/seaborn/axisgrid.py?line=1385'>1386</a>\u001b[0m \u001b[39mif\u001b[39;00m \u001b[39mself\u001b[39m\u001b[39m.\u001b[39msquare_grid:\n\u001b[0;32m-> <a href='file:///home/matined/anaconda3/envs/quant/lib/python3.9/site-packages/seaborn/axisgrid.py?line=1386'>1387</a>\u001b[0m     \u001b[39mself\u001b[39;49m\u001b[39m.\u001b[39;49mmap_lower(func, \u001b[39m*\u001b[39;49m\u001b[39m*\u001b[39;49mkwargs)\n\u001b[1;32m   <a href='file:///home/matined/anaconda3/envs/quant/lib/python3.9/site-packages/seaborn/axisgrid.py?line=1387'>1388</a>\u001b[0m     \u001b[39mif\u001b[39;00m \u001b[39mnot\u001b[39;00m \u001b[39mself\u001b[39m\u001b[39m.\u001b[39m_corner:\n\u001b[1;32m   <a href='file:///home/matined/anaconda3/envs/quant/lib/python3.9/site-packages/seaborn/axisgrid.py?line=1388'>1389</a>\u001b[0m         \u001b[39mself\u001b[39m\u001b[39m.\u001b[39mmap_upper(func, \u001b[39m*\u001b[39m\u001b[39m*\u001b[39mkwargs)\n",
      "File \u001b[0;32m~/anaconda3/envs/quant/lib/python3.9/site-packages/seaborn/axisgrid.py:1357\u001b[0m, in \u001b[0;36mPairGrid.map_lower\u001b[0;34m(self, func, **kwargs)\u001b[0m\n\u001b[1;32m   <a href='file:///home/matined/anaconda3/envs/quant/lib/python3.9/site-packages/seaborn/axisgrid.py?line=1345'>1346</a>\u001b[0m \u001b[39m\"\"\"Plot with a bivariate function on the lower diagonal subplots.\u001b[39;00m\n\u001b[1;32m   <a href='file:///home/matined/anaconda3/envs/quant/lib/python3.9/site-packages/seaborn/axisgrid.py?line=1346'>1347</a>\u001b[0m \n\u001b[1;32m   <a href='file:///home/matined/anaconda3/envs/quant/lib/python3.9/site-packages/seaborn/axisgrid.py?line=1347'>1348</a>\u001b[0m \u001b[39mParameters\u001b[39;00m\n\u001b[0;32m   (...)\u001b[0m\n\u001b[1;32m   <a href='file:///home/matined/anaconda3/envs/quant/lib/python3.9/site-packages/seaborn/axisgrid.py?line=1353'>1354</a>\u001b[0m \n\u001b[1;32m   <a href='file:///home/matined/anaconda3/envs/quant/lib/python3.9/site-packages/seaborn/axisgrid.py?line=1354'>1355</a>\u001b[0m \u001b[39m\"\"\"\u001b[39;00m\n\u001b[1;32m   <a href='file:///home/matined/anaconda3/envs/quant/lib/python3.9/site-packages/seaborn/axisgrid.py?line=1355'>1356</a>\u001b[0m indices \u001b[39m=\u001b[39m \u001b[39mzip\u001b[39m(\u001b[39m*\u001b[39mnp\u001b[39m.\u001b[39mtril_indices_from(\u001b[39mself\u001b[39m\u001b[39m.\u001b[39maxes, \u001b[39m-\u001b[39m\u001b[39m1\u001b[39m))\n\u001b[0;32m-> <a href='file:///home/matined/anaconda3/envs/quant/lib/python3.9/site-packages/seaborn/axisgrid.py?line=1356'>1357</a>\u001b[0m \u001b[39mself\u001b[39;49m\u001b[39m.\u001b[39;49m_map_bivariate(func, indices, \u001b[39m*\u001b[39;49m\u001b[39m*\u001b[39;49mkwargs)\n\u001b[1;32m   <a href='file:///home/matined/anaconda3/envs/quant/lib/python3.9/site-packages/seaborn/axisgrid.py?line=1357'>1358</a>\u001b[0m \u001b[39mreturn\u001b[39;00m \u001b[39mself\u001b[39m\n",
      "File \u001b[0;32m~/anaconda3/envs/quant/lib/python3.9/site-packages/seaborn/axisgrid.py:1539\u001b[0m, in \u001b[0;36mPairGrid._map_bivariate\u001b[0;34m(self, func, indices, **kwargs)\u001b[0m\n\u001b[1;32m   <a href='file:///home/matined/anaconda3/envs/quant/lib/python3.9/site-packages/seaborn/axisgrid.py?line=1536'>1537</a>\u001b[0m     \u001b[39mif\u001b[39;00m ax \u001b[39mis\u001b[39;00m \u001b[39mNone\u001b[39;00m:  \u001b[39m# i.e. we are in corner mode\u001b[39;00m\n\u001b[1;32m   <a href='file:///home/matined/anaconda3/envs/quant/lib/python3.9/site-packages/seaborn/axisgrid.py?line=1537'>1538</a>\u001b[0m         \u001b[39mcontinue\u001b[39;00m\n\u001b[0;32m-> <a href='file:///home/matined/anaconda3/envs/quant/lib/python3.9/site-packages/seaborn/axisgrid.py?line=1538'>1539</a>\u001b[0m     \u001b[39mself\u001b[39;49m\u001b[39m.\u001b[39;49m_plot_bivariate(x_var, y_var, ax, func, \u001b[39m*\u001b[39;49m\u001b[39m*\u001b[39;49mkws)\n\u001b[1;32m   <a href='file:///home/matined/anaconda3/envs/quant/lib/python3.9/site-packages/seaborn/axisgrid.py?line=1539'>1540</a>\u001b[0m \u001b[39mself\u001b[39m\u001b[39m.\u001b[39m_add_axis_labels()\n\u001b[1;32m   <a href='file:///home/matined/anaconda3/envs/quant/lib/python3.9/site-packages/seaborn/axisgrid.py?line=1541'>1542</a>\u001b[0m \u001b[39mif\u001b[39;00m \u001b[39m\"\u001b[39m\u001b[39mhue\u001b[39m\u001b[39m\"\u001b[39m \u001b[39min\u001b[39;00m signature(func)\u001b[39m.\u001b[39mparameters:\n",
      "File \u001b[0;32m~/anaconda3/envs/quant/lib/python3.9/site-packages/seaborn/axisgrid.py:1579\u001b[0m, in \u001b[0;36mPairGrid._plot_bivariate\u001b[0;34m(self, x_var, y_var, ax, func, **kwargs)\u001b[0m\n\u001b[1;32m   <a href='file:///home/matined/anaconda3/envs/quant/lib/python3.9/site-packages/seaborn/axisgrid.py?line=1576'>1577</a>\u001b[0m kwargs\u001b[39m.\u001b[39msetdefault(\u001b[39m\"\u001b[39m\u001b[39mhue_order\u001b[39m\u001b[39m\"\u001b[39m, \u001b[39mself\u001b[39m\u001b[39m.\u001b[39m_hue_order)\n\u001b[1;32m   <a href='file:///home/matined/anaconda3/envs/quant/lib/python3.9/site-packages/seaborn/axisgrid.py?line=1577'>1578</a>\u001b[0m kwargs\u001b[39m.\u001b[39msetdefault(\u001b[39m\"\u001b[39m\u001b[39mpalette\u001b[39m\u001b[39m\"\u001b[39m, \u001b[39mself\u001b[39m\u001b[39m.\u001b[39m_orig_palette)\n\u001b[0;32m-> <a href='file:///home/matined/anaconda3/envs/quant/lib/python3.9/site-packages/seaborn/axisgrid.py?line=1578'>1579</a>\u001b[0m func(x\u001b[39m=\u001b[39;49mx, y\u001b[39m=\u001b[39;49my, \u001b[39m*\u001b[39;49m\u001b[39m*\u001b[39;49mkwargs)\n\u001b[1;32m   <a href='file:///home/matined/anaconda3/envs/quant/lib/python3.9/site-packages/seaborn/axisgrid.py?line=1580'>1581</a>\u001b[0m \u001b[39mself\u001b[39m\u001b[39m.\u001b[39m_update_legend_data(ax)\n",
      "File \u001b[0;32m~/anaconda3/envs/quant/lib/python3.9/site-packages/seaborn/_decorators.py:46\u001b[0m, in \u001b[0;36m_deprecate_positional_args.<locals>.inner_f\u001b[0;34m(*args, **kwargs)\u001b[0m\n\u001b[1;32m     <a href='file:///home/matined/anaconda3/envs/quant/lib/python3.9/site-packages/seaborn/_decorators.py?line=35'>36</a>\u001b[0m     warnings\u001b[39m.\u001b[39mwarn(\n\u001b[1;32m     <a href='file:///home/matined/anaconda3/envs/quant/lib/python3.9/site-packages/seaborn/_decorators.py?line=36'>37</a>\u001b[0m         \u001b[39m\"\u001b[39m\u001b[39mPass the following variable\u001b[39m\u001b[39m{}\u001b[39;00m\u001b[39m as \u001b[39m\u001b[39m{}\u001b[39;00m\u001b[39mkeyword arg\u001b[39m\u001b[39m{}\u001b[39;00m\u001b[39m: \u001b[39m\u001b[39m{}\u001b[39;00m\u001b[39m. \u001b[39m\u001b[39m\"\u001b[39m\n\u001b[1;32m     <a href='file:///home/matined/anaconda3/envs/quant/lib/python3.9/site-packages/seaborn/_decorators.py?line=37'>38</a>\u001b[0m         \u001b[39m\"\u001b[39m\u001b[39mFrom version 0.12, the only valid positional argument \u001b[39m\u001b[39m\"\u001b[39m\n\u001b[0;32m   (...)\u001b[0m\n\u001b[1;32m     <a href='file:///home/matined/anaconda3/envs/quant/lib/python3.9/site-packages/seaborn/_decorators.py?line=42'>43</a>\u001b[0m         \u001b[39mFutureWarning\u001b[39;00m\n\u001b[1;32m     <a href='file:///home/matined/anaconda3/envs/quant/lib/python3.9/site-packages/seaborn/_decorators.py?line=43'>44</a>\u001b[0m     )\n\u001b[1;32m     <a href='file:///home/matined/anaconda3/envs/quant/lib/python3.9/site-packages/seaborn/_decorators.py?line=44'>45</a>\u001b[0m kwargs\u001b[39m.\u001b[39mupdate({k: arg \u001b[39mfor\u001b[39;00m k, arg \u001b[39min\u001b[39;00m \u001b[39mzip\u001b[39m(sig\u001b[39m.\u001b[39mparameters, args)})\n\u001b[0;32m---> <a href='file:///home/matined/anaconda3/envs/quant/lib/python3.9/site-packages/seaborn/_decorators.py?line=45'>46</a>\u001b[0m \u001b[39mreturn\u001b[39;00m f(\u001b[39m*\u001b[39;49m\u001b[39m*\u001b[39;49mkwargs)\n",
      "File \u001b[0;32m~/anaconda3/envs/quant/lib/python3.9/site-packages/seaborn/relational.py:827\u001b[0m, in \u001b[0;36mscatterplot\u001b[0;34m(x, y, hue, style, size, data, palette, hue_order, hue_norm, sizes, size_order, size_norm, markers, style_order, x_bins, y_bins, units, estimator, ci, n_boot, alpha, x_jitter, y_jitter, legend, ax, **kwargs)\u001b[0m\n\u001b[1;32m    <a href='file:///home/matined/anaconda3/envs/quant/lib/python3.9/site-packages/seaborn/relational.py?line=822'>823</a>\u001b[0m     \u001b[39mreturn\u001b[39;00m ax\n\u001b[1;32m    <a href='file:///home/matined/anaconda3/envs/quant/lib/python3.9/site-packages/seaborn/relational.py?line=824'>825</a>\u001b[0m p\u001b[39m.\u001b[39m_attach(ax)\n\u001b[0;32m--> <a href='file:///home/matined/anaconda3/envs/quant/lib/python3.9/site-packages/seaborn/relational.py?line=826'>827</a>\u001b[0m p\u001b[39m.\u001b[39;49mplot(ax, kwargs)\n\u001b[1;32m    <a href='file:///home/matined/anaconda3/envs/quant/lib/python3.9/site-packages/seaborn/relational.py?line=828'>829</a>\u001b[0m \u001b[39mreturn\u001b[39;00m ax\n",
      "File \u001b[0;32m~/anaconda3/envs/quant/lib/python3.9/site-packages/seaborn/relational.py:628\u001b[0m, in \u001b[0;36m_ScatterPlotter.plot\u001b[0;34m(self, ax, kws)\u001b[0m\n\u001b[1;32m    <a href='file:///home/matined/anaconda3/envs/quant/lib/python3.9/site-packages/seaborn/relational.py?line=625'>626</a>\u001b[0m \u001b[39m# Apply the mapping from semantic variables to artist attributes\u001b[39;00m\n\u001b[1;32m    <a href='file:///home/matined/anaconda3/envs/quant/lib/python3.9/site-packages/seaborn/relational.py?line=626'>627</a>\u001b[0m \u001b[39mif\u001b[39;00m \u001b[39m\"\u001b[39m\u001b[39mhue\u001b[39m\u001b[39m\"\u001b[39m \u001b[39min\u001b[39;00m \u001b[39mself\u001b[39m\u001b[39m.\u001b[39mvariables:\n\u001b[0;32m--> <a href='file:///home/matined/anaconda3/envs/quant/lib/python3.9/site-packages/seaborn/relational.py?line=627'>628</a>\u001b[0m     c \u001b[39m=\u001b[39m \u001b[39mself\u001b[39;49m\u001b[39m.\u001b[39;49m_hue_map(data[\u001b[39m\"\u001b[39;49m\u001b[39mhue\u001b[39;49m\u001b[39m\"\u001b[39;49m])\n\u001b[1;32m    <a href='file:///home/matined/anaconda3/envs/quant/lib/python3.9/site-packages/seaborn/relational.py?line=629'>630</a>\u001b[0m \u001b[39mif\u001b[39;00m \u001b[39m\"\u001b[39m\u001b[39msize\u001b[39m\u001b[39m\"\u001b[39m \u001b[39min\u001b[39;00m \u001b[39mself\u001b[39m\u001b[39m.\u001b[39mvariables:\n\u001b[1;32m    <a href='file:///home/matined/anaconda3/envs/quant/lib/python3.9/site-packages/seaborn/relational.py?line=630'>631</a>\u001b[0m     s \u001b[39m=\u001b[39m \u001b[39mself\u001b[39m\u001b[39m.\u001b[39m_size_map(data[\u001b[39m\"\u001b[39m\u001b[39msize\u001b[39m\u001b[39m\"\u001b[39m])\n",
      "File \u001b[0;32m~/anaconda3/envs/quant/lib/python3.9/site-packages/seaborn/_core.py:63\u001b[0m, in \u001b[0;36mSemanticMapping.__call__\u001b[0;34m(self, key, *args, **kwargs)\u001b[0m\n\u001b[1;32m     <a href='file:///home/matined/anaconda3/envs/quant/lib/python3.9/site-packages/seaborn/_core.py?line=60'>61</a>\u001b[0m \u001b[39m\"\"\"Get the attribute(s) values for the data key.\"\"\"\u001b[39;00m\n\u001b[1;32m     <a href='file:///home/matined/anaconda3/envs/quant/lib/python3.9/site-packages/seaborn/_core.py?line=61'>62</a>\u001b[0m \u001b[39mif\u001b[39;00m \u001b[39misinstance\u001b[39m(key, (\u001b[39mlist\u001b[39m, np\u001b[39m.\u001b[39mndarray, pd\u001b[39m.\u001b[39mSeries)):\n\u001b[0;32m---> <a href='file:///home/matined/anaconda3/envs/quant/lib/python3.9/site-packages/seaborn/_core.py?line=62'>63</a>\u001b[0m     \u001b[39mreturn\u001b[39;00m [\u001b[39mself\u001b[39m\u001b[39m.\u001b[39m_lookup_single(k, \u001b[39m*\u001b[39margs, \u001b[39m*\u001b[39m\u001b[39m*\u001b[39mkwargs) \u001b[39mfor\u001b[39;00m k \u001b[39min\u001b[39;00m key]\n\u001b[1;32m     <a href='file:///home/matined/anaconda3/envs/quant/lib/python3.9/site-packages/seaborn/_core.py?line=63'>64</a>\u001b[0m \u001b[39melse\u001b[39;00m:\n\u001b[1;32m     <a href='file:///home/matined/anaconda3/envs/quant/lib/python3.9/site-packages/seaborn/_core.py?line=64'>65</a>\u001b[0m     \u001b[39mreturn\u001b[39;00m \u001b[39mself\u001b[39m\u001b[39m.\u001b[39m_lookup_single(key, \u001b[39m*\u001b[39margs, \u001b[39m*\u001b[39m\u001b[39m*\u001b[39mkwargs)\n",
      "File \u001b[0;32m~/anaconda3/envs/quant/lib/python3.9/site-packages/seaborn/_core.py:63\u001b[0m, in \u001b[0;36m<listcomp>\u001b[0;34m(.0)\u001b[0m\n\u001b[1;32m     <a href='file:///home/matined/anaconda3/envs/quant/lib/python3.9/site-packages/seaborn/_core.py?line=60'>61</a>\u001b[0m \u001b[39m\"\"\"Get the attribute(s) values for the data key.\"\"\"\u001b[39;00m\n\u001b[1;32m     <a href='file:///home/matined/anaconda3/envs/quant/lib/python3.9/site-packages/seaborn/_core.py?line=61'>62</a>\u001b[0m \u001b[39mif\u001b[39;00m \u001b[39misinstance\u001b[39m(key, (\u001b[39mlist\u001b[39m, np\u001b[39m.\u001b[39mndarray, pd\u001b[39m.\u001b[39mSeries)):\n\u001b[0;32m---> <a href='file:///home/matined/anaconda3/envs/quant/lib/python3.9/site-packages/seaborn/_core.py?line=62'>63</a>\u001b[0m     \u001b[39mreturn\u001b[39;00m [\u001b[39mself\u001b[39;49m\u001b[39m.\u001b[39;49m_lookup_single(k, \u001b[39m*\u001b[39;49margs, \u001b[39m*\u001b[39;49m\u001b[39m*\u001b[39;49mkwargs) \u001b[39mfor\u001b[39;00m k \u001b[39min\u001b[39;00m key]\n\u001b[1;32m     <a href='file:///home/matined/anaconda3/envs/quant/lib/python3.9/site-packages/seaborn/_core.py?line=63'>64</a>\u001b[0m \u001b[39melse\u001b[39;00m:\n\u001b[1;32m     <a href='file:///home/matined/anaconda3/envs/quant/lib/python3.9/site-packages/seaborn/_core.py?line=64'>65</a>\u001b[0m     \u001b[39mreturn\u001b[39;00m \u001b[39mself\u001b[39m\u001b[39m.\u001b[39m_lookup_single(key, \u001b[39m*\u001b[39margs, \u001b[39m*\u001b[39m\u001b[39m*\u001b[39mkwargs)\n",
      "File \u001b[0;32m~/anaconda3/envs/quant/lib/python3.9/site-packages/seaborn/_core.py:144\u001b[0m, in \u001b[0;36mHueMapping._lookup_single\u001b[0;34m(self, key)\u001b[0m\n\u001b[1;32m    <a href='file:///home/matined/anaconda3/envs/quant/lib/python3.9/site-packages/seaborn/_core.py?line=140'>141</a>\u001b[0m \u001b[39m\"\"\"Get the color for a single value, using colormap to interpolate.\"\"\"\u001b[39;00m\n\u001b[1;32m    <a href='file:///home/matined/anaconda3/envs/quant/lib/python3.9/site-packages/seaborn/_core.py?line=141'>142</a>\u001b[0m \u001b[39mtry\u001b[39;00m:\n\u001b[1;32m    <a href='file:///home/matined/anaconda3/envs/quant/lib/python3.9/site-packages/seaborn/_core.py?line=142'>143</a>\u001b[0m     \u001b[39m# Use a value that's in the original data vector\u001b[39;00m\n\u001b[0;32m--> <a href='file:///home/matined/anaconda3/envs/quant/lib/python3.9/site-packages/seaborn/_core.py?line=143'>144</a>\u001b[0m     value \u001b[39m=\u001b[39m \u001b[39mself\u001b[39;49m\u001b[39m.\u001b[39;49mlookup_table[key]\n\u001b[1;32m    <a href='file:///home/matined/anaconda3/envs/quant/lib/python3.9/site-packages/seaborn/_core.py?line=144'>145</a>\u001b[0m \u001b[39mexcept\u001b[39;00m \u001b[39mKeyError\u001b[39;00m:\n\u001b[1;32m    <a href='file:///home/matined/anaconda3/envs/quant/lib/python3.9/site-packages/seaborn/_core.py?line=145'>146</a>\u001b[0m     \u001b[39m# Use the colormap to interpolate between existing datapoints\u001b[39;00m\n\u001b[1;32m    <a href='file:///home/matined/anaconda3/envs/quant/lib/python3.9/site-packages/seaborn/_core.py?line=146'>147</a>\u001b[0m     \u001b[39m# (e.g. in the context of making a continuous legend)\u001b[39;00m\n\u001b[1;32m    <a href='file:///home/matined/anaconda3/envs/quant/lib/python3.9/site-packages/seaborn/_core.py?line=147'>148</a>\u001b[0m     \u001b[39mtry\u001b[39;00m:\n",
      "\u001b[0;31mKeyboardInterrupt\u001b[0m: "
     ]
    },
    {
     "data": {
      "image/png": "[encoded data removed]",
      "text/plain": [
       "<Figure size 1440x1440 with 72 Axes>"
      ]
     },
     "metadata": {
      "needs_background": "light"
     },
     "output_type": "display_data"
    }
   ],
   "source": [
    "ax = sns.pairplot(trainingDataFrame, hue=\"Won\")\n"
   ]
  },
  {
   "cell_type": "markdown",
   "metadata": {},
   "source": [
    "### 1.3. Pandas-profiling <a class=\"anchor\" id=\"section_1_3\"></a>\n",
    "\n"
   ]
  },
  {
   "cell_type": "markdown",
   "metadata": {},
   "source": [
    "This tool lets see lots of info about data without coding tens of matplotlib plots. We read that this dataset is highly correlated and has duplicate rows.\n",
    "\n",
    "Open the `data_report.html` with your browser."
   ]
  },
  {
   "cell_type": "code",
   "execution_count": null,
   "metadata": {},
   "outputs": [],
   "source": [
    "!pip install --upgrade pandas-profiling"
   ]
  },
  {
   "cell_type": "code",
   "execution_count": 43,
   "metadata": {},
   "outputs": [
    {
     "name": "stderr",
     "output_type": "stream",
     "text": [
      "Summarize dataset:  62%|██████▏   | 13/21 [00:01<00:00, 13.52it/s, Calculate kendall correlation]    /home/matined/anaconda3/envs/quant/lib/python3.9/site-packages/scipy/stats/stats.py:4812: RuntimeWarning: overflow encountered in long_scalars\n",
      "  (2 * xtie * ytie) / m + x0 * y0 / (9 * m * (size - 2)))\n",
      "Summarize dataset: 100%|██████████| 104/104 [00:20<00:00,  5.04it/s, Completed]                                \n",
      "Generate report structure: 100%|██████████| 1/1 [00:03<00:00,  3.02s/it]\n",
      "Render HTML: 100%|██████████| 1/1 [00:02<00:00,  2.46s/it]\n",
      "Export report to file: 100%|██████████| 1/1 [00:00<00:00, 133.64it/s]\n"
     ]
    }
   ],
   "source": [
    "from pandas_profiling import ProfileReport\n",
    "prof = ProfileReport(trainingDataFrame)\n",
    "prof.to_file(output_file='data_report.html')"
   ]
  },
  {
   "cell_type": "markdown",
   "metadata": {},
   "source": [
    "## 2. Data preprocessing <a class=\"anchor\" id=\"section_2\"></a>"
   ]
  },
  {
   "cell_type": "markdown",
   "metadata": {},
   "source": [
    "### 2.1. Remove Duplicate Rows <a class=\"anchor\" id=\"section_2_1\"></a>"
   ]
  },
  {
   "cell_type": "code",
   "execution_count": 5,
   "metadata": {},
   "outputs": [],
   "source": [
    "trainingDataFrame.drop_duplicates(keep=False, inplace=True)"
   ]
  },
  {
   "cell_type": "markdown",
   "metadata": {},
   "source": [
    "### 2.2. Tokenize Countries <a class=\"anchor\" id=\"section_2_2\"></a>"
   ]
  },
  {
   "cell_type": "code",
   "execution_count": 6,
   "metadata": {},
   "outputs": [
    {
     "data": {
      "text/html": [
       "<div>\n",
       "<style scoped>\n",
       "    .dataframe tbody tr th:only-of-type {\n",
       "        vertical-align: middle;\n",
       "    }\n",
       "\n",
       "    .dataframe tbody tr th {\n",
       "        vertical-align: top;\n",
       "    }\n",
       "\n",
       "    .dataframe thead th {\n",
       "        text-align: right;\n",
       "    }\n",
       "</style>\n",
       "<table border=\"1\" class=\"dataframe\">\n",
       "  <thead>\n",
       "    <tr style=\"text-align: right;\">\n",
       "      <th></th>\n",
       "      <th>Won</th>\n",
       "      <th>Price</th>\n",
       "      <th>Coupon</th>\n",
       "      <th>Notional</th>\n",
       "      <th>Maturity</th>\n",
       "      <th>Sensitivity</th>\n",
       "      <th>Liquidity</th>\n",
       "      <th>Complexity</th>\n",
       "      <th>ParticipantCount</th>\n",
       "      <th>Country</th>\n",
       "    </tr>\n",
       "  </thead>\n",
       "  <tbody>\n",
       "    <tr>\n",
       "      <th>0</th>\n",
       "      <td>False</td>\n",
       "      <td>173.989506</td>\n",
       "      <td>36.619581</td>\n",
       "      <td>7190.303746</td>\n",
       "      <td>5801.393623</td>\n",
       "      <td>12.861949</td>\n",
       "      <td>-11</td>\n",
       "      <td>30.331649</td>\n",
       "      <td>74</td>\n",
       "      <td>1</td>\n",
       "    </tr>\n",
       "    <tr>\n",
       "      <th>1</th>\n",
       "      <td>False</td>\n",
       "      <td>154.434297</td>\n",
       "      <td>-14.493572</td>\n",
       "      <td>3907.754648</td>\n",
       "      <td>3117.677959</td>\n",
       "      <td>6.632008</td>\n",
       "      <td>0</td>\n",
       "      <td>26.388674</td>\n",
       "      <td>75</td>\n",
       "      <td>2</td>\n",
       "    </tr>\n",
       "    <tr>\n",
       "      <th>2</th>\n",
       "      <td>True</td>\n",
       "      <td>140.306546</td>\n",
       "      <td>-5.156848</td>\n",
       "      <td>1748.478438</td>\n",
       "      <td>1390.654047</td>\n",
       "      <td>1.066665</td>\n",
       "      <td>3</td>\n",
       "      <td>13.911858</td>\n",
       "      <td>73</td>\n",
       "      <td>3</td>\n",
       "    </tr>\n",
       "    <tr>\n",
       "      <th>3</th>\n",
       "      <td>False</td>\n",
       "      <td>136.185397</td>\n",
       "      <td>36.380886</td>\n",
       "      <td>2876.694033</td>\n",
       "      <td>2325.175004</td>\n",
       "      <td>-10.913600</td>\n",
       "      <td>4</td>\n",
       "      <td>-1.299865</td>\n",
       "      <td>100</td>\n",
       "      <td>6</td>\n",
       "    </tr>\n",
       "    <tr>\n",
       "      <th>4</th>\n",
       "      <td>False</td>\n",
       "      <td>122.707273</td>\n",
       "      <td>1.697044</td>\n",
       "      <td>2097.140765</td>\n",
       "      <td>1690.196841</td>\n",
       "      <td>9.976876</td>\n",
       "      <td>5</td>\n",
       "      <td>-24.816807</td>\n",
       "      <td>69</td>\n",
       "      <td>3</td>\n",
       "    </tr>\n",
       "    <tr>\n",
       "      <th>5</th>\n",
       "      <td>True</td>\n",
       "      <td>184.950985</td>\n",
       "      <td>22.665973</td>\n",
       "      <td>9515.455096</td>\n",
       "      <td>2535.414520</td>\n",
       "      <td>44.538466</td>\n",
       "      <td>-8</td>\n",
       "      <td>-32.587171</td>\n",
       "      <td>62</td>\n",
       "      <td>7</td>\n",
       "    </tr>\n",
       "    <tr>\n",
       "      <th>6</th>\n",
       "      <td>False</td>\n",
       "      <td>124.534103</td>\n",
       "      <td>-13.060869</td>\n",
       "      <td>10462.362080</td>\n",
       "      <td>2770.476943</td>\n",
       "      <td>-26.546683</td>\n",
       "      <td>18</td>\n",
       "      <td>-9.935466</td>\n",
       "      <td>68</td>\n",
       "      <td>2</td>\n",
       "    </tr>\n",
       "    <tr>\n",
       "      <th>7</th>\n",
       "      <td>False</td>\n",
       "      <td>154.383021</td>\n",
       "      <td>0.671142</td>\n",
       "      <td>7431.831181</td>\n",
       "      <td>1980.909118</td>\n",
       "      <td>-2.613285</td>\n",
       "      <td>10</td>\n",
       "      <td>-30.622396</td>\n",
       "      <td>56</td>\n",
       "      <td>2</td>\n",
       "    </tr>\n",
       "    <tr>\n",
       "      <th>8</th>\n",
       "      <td>False</td>\n",
       "      <td>121.444771</td>\n",
       "      <td>-11.062128</td>\n",
       "      <td>7645.392635</td>\n",
       "      <td>2023.554527</td>\n",
       "      <td>-31.970024</td>\n",
       "      <td>23</td>\n",
       "      <td>-8.898941</td>\n",
       "      <td>64</td>\n",
       "      <td>4</td>\n",
       "    </tr>\n",
       "    <tr>\n",
       "      <th>9</th>\n",
       "      <td>False</td>\n",
       "      <td>129.678933</td>\n",
       "      <td>16.997186</td>\n",
       "      <td>7194.589100</td>\n",
       "      <td>1889.104131</td>\n",
       "      <td>31.091381</td>\n",
       "      <td>-8</td>\n",
       "      <td>38.575082</td>\n",
       "      <td>87</td>\n",
       "      <td>7</td>\n",
       "    </tr>\n",
       "  </tbody>\n",
       "</table>\n",
       "</div>"
      ],
      "text/plain": [
       "     Won       Price     Coupon      Notional     Maturity  Sensitivity  \\\n",
       "0  False  173.989506  36.619581   7190.303746  5801.393623    12.861949   \n",
       "1  False  154.434297 -14.493572   3907.754648  3117.677959     6.632008   \n",
       "2   True  140.306546  -5.156848   1748.478438  1390.654047     1.066665   \n",
       "3  False  136.185397  36.380886   2876.694033  2325.175004   -10.913600   \n",
       "4  False  122.707273   1.697044   2097.140765  1690.196841     9.976876   \n",
       "5   True  184.950985  22.665973   9515.455096  2535.414520    44.538466   \n",
       "6  False  124.534103 -13.060869  10462.362080  2770.476943   -26.546683   \n",
       "7  False  154.383021   0.671142   7431.831181  1980.909118    -2.613285   \n",
       "8  False  121.444771 -11.062128   7645.392635  2023.554527   -31.970024   \n",
       "9  False  129.678933  16.997186   7194.589100  1889.104131    31.091381   \n",
       "\n",
       "   Liquidity  Complexity  ParticipantCount  Country  \n",
       "0        -11   30.331649                74        1  \n",
       "1          0   26.388674                75        2  \n",
       "2          3   13.911858                73        3  \n",
       "3          4   -1.299865               100        6  \n",
       "4          5  -24.816807                69        3  \n",
       "5         -8  -32.587171                62        7  \n",
       "6         18   -9.935466                68        2  \n",
       "7         10  -30.622396                56        2  \n",
       "8         23   -8.898941                64        4  \n",
       "9         -8   38.575082                87        7  "
      ]
     },
     "execution_count": 6,
     "metadata": {},
     "output_type": "execute_result"
    }
   ],
   "source": [
    "tokenizer = Tokenizer(num_words=10, lower=False)\n",
    "tokenizer.fit_on_texts(trainingDataFrame['Country'])\n",
    "trainingDataFrame['Country'] = np.squeeze(tokenizer.texts_to_sequences(trainingDataFrame['Country']))\n",
    "trainingDataFrame.head(10)\n"
   ]
  },
  {
   "cell_type": "markdown",
   "metadata": {},
   "source": [
    "### 2.3. Data Augmentation <a class=\"anchor\" id=\"section_2_3\"></a>"
   ]
  },
  {
   "cell_type": "markdown",
   "metadata": {},
   "source": [
    "Data is skewed. Moreover, we want a model to learn that prices higher than selling price are good as well."
   ]
  },
  {
   "cell_type": "code",
   "execution_count": 7,
   "metadata": {},
   "outputs": [
    {
     "data": {
      "text/plain": [
       "False    75501\n",
       "True     14168\n",
       "Name: Won, dtype: int64"
      ]
     },
     "execution_count": 7,
     "metadata": {},
     "output_type": "execute_result"
    }
   ],
   "source": [
    "trainingDataFrame['Won'].value_counts()"
   ]
  },
  {
   "cell_type": "code",
   "execution_count": 8,
   "metadata": {},
   "outputs": [
    {
     "name": "stderr",
     "output_type": "stream",
     "text": [
      "/tmp/ipykernel_18943/1293490448.py:19: SettingWithCopyWarning: \n",
      "A value is trying to be set on a copy of a slice from a DataFrame.\n",
      "Try using .loc[row_indexer,col_indexer] = value instead\n",
      "\n",
      "See the caveats in the documentation: https://pandas.pydata.org/pandas-docs/stable/user_guide/indexing.html#returning-a-view-versus-a-copy\n",
      "  true_examples_1['Price'] += random_add_1\n",
      "/tmp/ipykernel_18943/1293490448.py:20: SettingWithCopyWarning: \n",
      "A value is trying to be set on a copy of a slice from a DataFrame.\n",
      "Try using .loc[row_indexer,col_indexer] = value instead\n",
      "\n",
      "See the caveats in the documentation: https://pandas.pydata.org/pandas-docs/stable/user_guide/indexing.html#returning-a-view-versus-a-copy\n",
      "  true_examples_2['Price'] += random_add_2\n",
      "/tmp/ipykernel_18943/1293490448.py:21: SettingWithCopyWarning: \n",
      "A value is trying to be set on a copy of a slice from a DataFrame.\n",
      "Try using .loc[row_indexer,col_indexer] = value instead\n",
      "\n",
      "See the caveats in the documentation: https://pandas.pydata.org/pandas-docs/stable/user_guide/indexing.html#returning-a-view-versus-a-copy\n",
      "  true_examples_3['Price'] += random_add_3\n",
      "/tmp/ipykernel_18943/1293490448.py:22: SettingWithCopyWarning: \n",
      "A value is trying to be set on a copy of a slice from a DataFrame.\n",
      "Try using .loc[row_indexer,col_indexer] = value instead\n",
      "\n",
      "See the caveats in the documentation: https://pandas.pydata.org/pandas-docs/stable/user_guide/indexing.html#returning-a-view-versus-a-copy\n",
      "  true_examples_4['Price'] += random_add_4\n",
      "/tmp/ipykernel_18943/1293490448.py:23: SettingWithCopyWarning: \n",
      "A value is trying to be set on a copy of a slice from a DataFrame.\n",
      "Try using .loc[row_indexer,col_indexer] = value instead\n",
      "\n",
      "See the caveats in the documentation: https://pandas.pydata.org/pandas-docs/stable/user_guide/indexing.html#returning-a-view-versus-a-copy\n",
      "  true_examples_5['Price'] += random_add_5\n",
      "/tmp/ipykernel_18943/1293490448.py:24: SettingWithCopyWarning: \n",
      "A value is trying to be set on a copy of a slice from a DataFrame.\n",
      "Try using .loc[row_indexer,col_indexer] = value instead\n",
      "\n",
      "See the caveats in the documentation: https://pandas.pydata.org/pandas-docs/stable/user_guide/indexing.html#returning-a-view-versus-a-copy\n",
      "  false_examples_1['Price'] -= random_subtract_1\n",
      "/tmp/ipykernel_18943/1293490448.py:26: FutureWarning: The frame.append method is deprecated and will be removed from pandas in a future version. Use pandas.concat instead.\n",
      "  trainingDataFrame =  trainingDataFrame.append(true_examples_1, ignore_index=True)\n",
      "/tmp/ipykernel_18943/1293490448.py:27: FutureWarning: The frame.append method is deprecated and will be removed from pandas in a future version. Use pandas.concat instead.\n",
      "  trainingDataFrame =  trainingDataFrame.append(true_examples_2, ignore_index=True)\n",
      "/tmp/ipykernel_18943/1293490448.py:28: FutureWarning: The frame.append method is deprecated and will be removed from pandas in a future version. Use pandas.concat instead.\n",
      "  trainingDataFrame =  trainingDataFrame.append(true_examples_3, ignore_index=True)\n",
      "/tmp/ipykernel_18943/1293490448.py:29: FutureWarning: The frame.append method is deprecated and will be removed from pandas in a future version. Use pandas.concat instead.\n",
      "  trainingDataFrame =  trainingDataFrame.append(true_examples_4, ignore_index=True)\n",
      "/tmp/ipykernel_18943/1293490448.py:30: FutureWarning: The frame.append method is deprecated and will be removed from pandas in a future version. Use pandas.concat instead.\n",
      "  trainingDataFrame =  trainingDataFrame.append(true_examples_5, ignore_index=True)\n",
      "/tmp/ipykernel_18943/1293490448.py:31: FutureWarning: The frame.append method is deprecated and will be removed from pandas in a future version. Use pandas.concat instead.\n",
      "  trainingDataFrame =  trainingDataFrame.append(true_examples_6, ignore_index=True)\n",
      "/tmp/ipykernel_18943/1293490448.py:32: FutureWarning: The frame.append method is deprecated and will be removed from pandas in a future version. Use pandas.concat instead.\n",
      "  trainingDataFrame =  trainingDataFrame.append(false_examples_1, ignore_index=True)\n"
     ]
    }
   ],
   "source": [
    "true_examples_1 = trainingDataFrame.loc[trainingDataFrame['Won'] == True]\n",
    "true_examples_2 = trainingDataFrame.loc[trainingDataFrame['Won'] == True]\n",
    "true_examples_3 = trainingDataFrame.loc[trainingDataFrame['Won'] == True]\n",
    "true_examples_4 = trainingDataFrame.loc[trainingDataFrame['Won'] == True]\n",
    "true_examples_5 = trainingDataFrame.loc[trainingDataFrame['Won'] == True]\n",
    "true_examples_6 = trainingDataFrame.loc[trainingDataFrame['Won'] == True]\n",
    "false_examples_1 = trainingDataFrame.loc[trainingDataFrame['Won'] == False]\n",
    "\n",
    "random_add_1 = np.random.rand(true_examples_1.shape[0]) * 40\n",
    "random_add_2 = np.random.rand(true_examples_1.shape[0]) * 60\n",
    "random_add_3 = np.random.rand(true_examples_1.shape[0]) * 100\n",
    "random_add_4 = np.random.rand(true_examples_1.shape[0]) * 200\n",
    "random_add_5 = np.random.rand(true_examples_1.shape[0]) * 400\n",
    "random_add_6 = np.random.rand(true_examples_1.shape[0]) * 700\n",
    "\n",
    "random_subtract_1 = np.random.rand(false_examples_1.shape[0]) * 40\n",
    "\n",
    "\n",
    "true_examples_1['Price'] += random_add_1\n",
    "true_examples_2['Price'] += random_add_2\n",
    "true_examples_3['Price'] += random_add_3\n",
    "true_examples_4['Price'] += random_add_4\n",
    "true_examples_5['Price'] += random_add_5\n",
    "false_examples_1['Price'] -= random_subtract_1\n",
    "\n",
    "trainingDataFrame =  trainingDataFrame.append(true_examples_1, ignore_index=True)\n",
    "trainingDataFrame =  trainingDataFrame.append(true_examples_2, ignore_index=True)\n",
    "trainingDataFrame =  trainingDataFrame.append(true_examples_3, ignore_index=True)\n",
    "trainingDataFrame =  trainingDataFrame.append(true_examples_4, ignore_index=True)\n",
    "trainingDataFrame =  trainingDataFrame.append(true_examples_5, ignore_index=True)\n",
    "trainingDataFrame =  trainingDataFrame.append(true_examples_6, ignore_index=True)\n",
    "trainingDataFrame =  trainingDataFrame.append(false_examples_1, ignore_index=True)\n"
   ]
  },
  {
   "cell_type": "code",
   "execution_count": 9,
   "metadata": {},
   "outputs": [
    {
     "data": {
      "text/plain": [
       "False    151002\n",
       "True      99176\n",
       "Name: Won, dtype: int64"
      ]
     },
     "execution_count": 9,
     "metadata": {},
     "output_type": "execute_result"
    }
   ],
   "source": [
    "trainingDataFrame['Won'].value_counts()"
   ]
  },
  {
   "cell_type": "markdown",
   "metadata": {},
   "source": [
    "### 2.4. Extract mean and standard deviation for each feature <a class=\"anchor\" id=\"section_2_4\"></a>"
   ]
  },
  {
   "cell_type": "code",
   "execution_count": 10,
   "metadata": {},
   "outputs": [],
   "source": [
    "mean = np.array(trainingDataFrame.drop(columns=['Won']).mean())\n",
    "std = np.array(trainingDataFrame.drop(columns=['Won']).std())\n"
   ]
  },
  {
   "cell_type": "markdown",
   "metadata": {},
   "source": [
    "### 2.5. Create train and cross-validation sets <a class=\"anchor\" id=\"section_2_5\"></a>"
   ]
  },
  {
   "cell_type": "code",
   "execution_count": 11,
   "metadata": {},
   "outputs": [],
   "source": [
    "X = np.array(trainingDataFrame.drop(columns=['Won']))\n",
    "y = np.array(trainingDataFrame['Won'], dtype='float')\n",
    "\n",
    "X_train, X_valid, y_train, y_valid = train_test_split(X, y, test_size=0.2)\n"
   ]
  },
  {
   "cell_type": "markdown",
   "metadata": {},
   "source": [
    "## 3. DNN Model <a class=\"anchor\" id=\"section_3\"></a>"
   ]
  },
  {
   "cell_type": "markdown",
   "metadata": {},
   "source": [
    "### 3.1. Normalization layer <a class=\"anchor\" id=\"section_3_1\"></a>"
   ]
  },
  {
   "cell_type": "code",
   "execution_count": 14,
   "metadata": {},
   "outputs": [],
   "source": [
    "class StandardScore(tf.keras.layers.Layer):\n",
    "    def __init__(self, mean, std):\n",
    "        super(StandardScore, self).__init__()\n",
    "        self.mean = mean\n",
    "        self.std = std\n",
    "\n",
    "    def call(self, inputs):\n",
    "        return (inputs - self.mean) / self.std\n"
   ]
  },
  {
   "cell_type": "markdown",
   "metadata": {},
   "source": [
    "### 3.2. Model definition <a class=\"anchor\" id=\"section_3_2\"></a>"
   ]
  },
  {
   "cell_type": "code",
   "execution_count": 15,
   "metadata": {},
   "outputs": [],
   "source": [
    "class AuctionModel(tf.keras.models.Model):\n",
    "    def __init__(self, activation):\n",
    "        super(AuctionModel, self).__init__()\n",
    "        self.dense1 = Dense(32, activation=activation)\n",
    "        self.dense2 = Dense(32, activation=activation)\n",
    "        self.dense3 = Dense(32, activation=activation)\n",
    "        self.dense4 = Dense(16, activation=activation)\n",
    "        self.dense5 = Dense(16, activation=activation)\n",
    "        self.dense6 = Dense(8, activation=activation)\n",
    "        self.dense7 = Dense(1, activation='sigmoid')\n",
    "\n",
    "        self.batchNorm1 = BatchNormalization()\n",
    "        self.batchNorm2 = BatchNormalization()\n",
    "        self.normalize = StandardScore(mean, std)\n",
    "\n",
    "    \n",
    "    def call(self, inputs):\n",
    "        x = self.normalize(inputs)\n",
    "        x = self.dense1(x)\n",
    "        x = self.dense2(x)\n",
    "        x = self.dense3(x)\n",
    "        x = self.batchNorm1(x)\n",
    "        x = self.dense4(x)\n",
    "        x = self.dense5(x)\n",
    "        x = self.batchNorm2(x)\n",
    "        x = self.dense6(x)\n",
    "        x = self.dense7(x)\n",
    "        \n",
    "        return x\n"
   ]
  },
  {
   "cell_type": "markdown",
   "metadata": {},
   "source": [
    "### 3.3. Brier Score - metric and loss <a class=\"anchor\" id=\"section_3_3\"></a>"
   ]
  },
  {
   "cell_type": "code",
   "execution_count": 16,
   "metadata": {},
   "outputs": [],
   "source": [
    "class BrierScore(tf.keras.metrics.Metric):\n",
    "    def __init__(self):\n",
    "        super(BrierScore, self).__init__()\n",
    "        self.score = self.add_weight(name='score', initializer='zeros')\n",
    "    \n",
    "    def update_state(self, y_true, y_pred, sample_weight=None):\n",
    "        number_of_examples = len(y_pred)\n",
    "\n",
    "        self.score = tf.reduce_sum(tf.square(y_pred - y_true)) / float(number_of_examples)\n",
    "\n",
    "    def result(self):\n",
    "        return self.score\n"
   ]
  },
  {
   "cell_type": "code",
   "execution_count": 17,
   "metadata": {},
   "outputs": [],
   "source": [
    "class BrierScoreLoss(tf.keras.losses.Loss):\n",
    "    def __init__(self):\n",
    "        super(BrierScoreLoss, self).__init__()\n",
    "    \n",
    "    def call(self, y_true, y_pred):\n",
    "        number_of_examples = len(y_pred)\n",
    "        return tf.reduce_sum(tf.square(y_pred - y_true)) / float(number_of_examples)"
   ]
  },
  {
   "cell_type": "markdown",
   "metadata": {},
   "source": [
    "### 3.4. Train <a class=\"anchor\" id=\"section_3_4\"></a>"
   ]
  },
  {
   "cell_type": "markdown",
   "metadata": {},
   "source": [
    "#### 3.4.1 **Relu** Activation and **RMSprop** Optimizer <a class=\"anchor\" id=\"section_3_4_1\"></a>"
   ]
  },
  {
   "cell_type": "code",
   "execution_count": 18,
   "metadata": {},
   "outputs": [
    {
     "name": "stderr",
     "output_type": "stream",
     "text": [
      "2022-03-17 19:54:02.337450: I tensorflow/compiler/jit/xla_cpu_device.cc:41] Not creating XLA devices, tf_xla_enable_xla_devices not set\n",
      "2022-03-17 19:54:02.337772: I tensorflow/core/platform/cpu_feature_guard.cc:142] This TensorFlow binary is optimized with oneAPI Deep Neural Network Library (oneDNN) to use the following CPU instructions in performance-critical operations:  SSE4.1 SSE4.2 AVX AVX2 FMA\n",
      "To enable them in other operations, rebuild TensorFlow with the appropriate compiler flags.\n",
      "2022-03-17 19:54:02.339253: I tensorflow/core/common_runtime/process_util.cc:146] Creating new thread pool with default inter op setting: 2. Tune using inter_op_parallelism_threads for best performance.\n"
     ]
    }
   ],
   "source": [
    "model1 = AuctionModel(activation=relu)\n",
    "model1.compile(loss=BrierScoreLoss(),\n",
    "               optimizer=tf.keras.optimizers.RMSprop(),\n",
    "               metrics=[Precision(), Recall(), BrierScore()])"
   ]
  },
  {
   "cell_type": "code",
   "execution_count": 17,
   "metadata": {},
   "outputs": [
    {
     "name": "stderr",
     "output_type": "stream",
     "text": [
      "2022-03-16 19:54:12.124449: I tensorflow/compiler/mlir/mlir_graph_optimization_pass.cc:116] None of the MLIR optimization passes are enabled (registered 2)\n",
      "2022-03-16 19:54:12.148939: I tensorflow/core/platform/profile_utils/cpu_utils.cc:112] CPU Frequency: 2799925000 Hz\n"
     ]
    },
    {
     "name": "stdout",
     "output_type": "stream",
     "text": [
      "Epoch 1/20\n",
      "738/738 [==============================] - 14s 16ms/step - loss: 0.1153 - precision: 0.7627 - recall: 0.7984 - brier_score: 0.0805\n",
      "Epoch 2/20\n",
      "738/738 [==============================] - 10s 14ms/step - loss: 0.0585 - precision: 0.9578 - recall: 0.8088 - brier_score: 0.0580\n",
      "Epoch 3/20\n",
      "738/738 [==============================] - 20s 28ms/step - loss: 0.0558 - precision: 0.9677 - recall: 0.8149 - brier_score: 0.0553\n",
      "Epoch 4/20\n",
      "738/738 [==============================] - 21s 28ms/step - loss: 0.0538 - precision: 0.9647 - recall: 0.8243 - brier_score: 0.0536\n",
      "Epoch 5/20\n",
      "738/738 [==============================] - 19s 26ms/step - loss: 0.0531 - precision: 0.9710 - recall: 0.8243 - brier_score: 0.0527\n",
      "Epoch 6/20\n",
      "738/738 [==============================] - 17s 23ms/step - loss: 0.0521 - precision: 0.9689 - recall: 0.8274 - brier_score: 0.0522\n",
      "Epoch 7/20\n",
      "738/738 [==============================] - 13s 18ms/step - loss: 0.0512 - precision: 0.9717 - recall: 0.8286 - brier_score: 0.0513\n",
      "Epoch 8/20\n",
      "738/738 [==============================] - 19s 25ms/step - loss: 0.0512 - precision: 0.9697 - recall: 0.8307 - brier_score: 0.0511\n",
      "Epoch 9/20\n",
      "738/738 [==============================] - 15s 20ms/step - loss: 0.0506 - precision: 0.9724 - recall: 0.8312 - brier_score: 0.0508\n",
      "Epoch 10/20\n",
      "738/738 [==============================] - 14s 19ms/step - loss: 0.0505 - precision: 0.9742 - recall: 0.8312 - brier_score: 0.0505\n",
      "Epoch 11/20\n",
      "738/738 [==============================] - 15s 21ms/step - loss: 0.0504 - precision: 0.9741 - recall: 0.8323 - brier_score: 0.0502\n",
      "Epoch 12/20\n",
      "738/738 [==============================] - 16s 21ms/step - loss: 0.0504 - precision: 0.9734 - recall: 0.8324 - brier_score: 0.0501\n",
      "Epoch 13/20\n",
      "738/738 [==============================] - 14s 19ms/step - loss: 0.0506 - precision: 0.9744 - recall: 0.8284 - brier_score: 0.0497\n",
      "Epoch 14/20\n",
      "738/738 [==============================] - 10s 14ms/step - loss: 0.0495 - precision: 0.9742 - recall: 0.8359 - brier_score: 0.0495\n",
      "Epoch 15/20\n",
      "738/738 [==============================] - 16s 22ms/step - loss: 0.0496 - precision: 0.9762 - recall: 0.8323 - brier_score: 0.0493\n",
      "Epoch 16/20\n",
      "738/738 [==============================] - 16s 22ms/step - loss: 0.0494 - precision: 0.9759 - recall: 0.8340 - brier_score: 0.0492\n",
      "Epoch 17/20\n",
      "738/738 [==============================] - 15s 20ms/step - loss: 0.0488 - precision: 0.9755 - recall: 0.8371 - brier_score: 0.0491\n",
      "Epoch 18/20\n",
      "738/738 [==============================] - 14s 20ms/step - loss: 0.0487 - precision: 0.9762 - recall: 0.8369 - brier_score: 0.0488\n",
      "Epoch 19/20\n",
      "738/738 [==============================] - 13s 17ms/step - loss: 0.0489 - precision: 0.9759 - recall: 0.8354 - brier_score: 0.0489\n",
      "Epoch 20/20\n",
      "738/738 [==============================] - 17s 23ms/step - loss: 0.0487 - precision: 0.9758 - recall: 0.8367 - brier_score: 0.0487\n"
     ]
    },
    {
     "data": {
      "text/plain": [
       "[<matplotlib.lines.Line2D at 0x7fa33e22af40>]"
      ]
     },
     "execution_count": 17,
     "metadata": {},
     "output_type": "execute_result"
    }
   ],
   "source": [
    "history = model1.fit(X_train, y_train, epochs=20, batch_size=256)\n",
    "plt.plot(history.history['loss'])"
   ]
  },
  {
   "cell_type": "markdown",
   "metadata": {},
   "source": [
    "#### 3.4.2 **Relu** Activation and **Adam** Optimizer <a class=\"anchor\" id=\"section_3_4_2\"></a>"
   ]
  },
  {
   "cell_type": "code",
   "execution_count": 55,
   "metadata": {},
   "outputs": [],
   "source": [
    "model2 = AuctionModel(activation=relu)\n",
    "model2.compile(loss=BrierScoreLoss(),\n",
    "              optimizer=tf.keras.optimizers.Adam(),\n",
    "              metrics=[Precision(), Recall(), BrierScore()])"
   ]
  },
  {
   "cell_type": "code",
   "execution_count": 56,
   "metadata": {},
   "outputs": [
    {
     "name": "stdout",
     "output_type": "stream",
     "text": [
      "Epoch 1/20\n",
      "738/738 [==============================] - 11s 13ms/step - loss: 0.1105 - precision_3: 0.8046 - recall_3: 0.7477 - brier_score_3: 0.0786\n",
      "Epoch 2/20\n",
      "738/738 [==============================] - 11s 15ms/step - loss: 0.0580 - precision_3: 0.9481 - recall_3: 0.8215 - brier_score_3: 0.0571\n",
      "Epoch 3/20\n",
      "738/738 [==============================] - 15s 20ms/step - loss: 0.0548 - precision_3: 0.9587 - recall_3: 0.8240 - brier_score_3: 0.0546\n",
      "Epoch 4/20\n",
      "738/738 [==============================] - 18s 24ms/step - loss: 0.0535 - precision_3: 0.9649 - recall_3: 0.8264 - brier_score_3: 0.0528\n",
      "Epoch 5/20\n",
      "738/738 [==============================] - 18s 24ms/step - loss: 0.0516 - precision_3: 0.9710 - recall_3: 0.8308 - brier_score_3: 0.0520\n",
      "Epoch 6/20\n",
      "738/738 [==============================] - 12s 16ms/step - loss: 0.0516 - precision_3: 0.9698 - recall_3: 0.8293 - brier_score_3: 0.0515\n",
      "Epoch 7/20\n",
      "738/738 [==============================] - 10s 14ms/step - loss: 0.0516 - precision_3: 0.9735 - recall_3: 0.8280 - brier_score_3: 0.0509\n",
      "Epoch 8/20\n",
      "738/738 [==============================] - 12s 16ms/step - loss: 0.0503 - precision_3: 0.9756 - recall_3: 0.8323 - brier_score_3: 0.0502\n",
      "Epoch 9/20\n",
      "738/738 [==============================] - 16s 21ms/step - loss: 0.0500 - precision_3: 0.9763 - recall_3: 0.8317 - brier_score_3: 0.0499\n",
      "Epoch 10/20\n",
      "738/738 [==============================] - 13s 18ms/step - loss: 0.0495 - precision_3: 0.9772 - recall_3: 0.8334 - brier_score_3: 0.0497\n",
      "Epoch 11/20\n",
      "738/738 [==============================] - 11s 15ms/step - loss: 0.0494 - precision_3: 0.9758 - recall_3: 0.8335 - brier_score_3: 0.0494\n",
      "Epoch 12/20\n",
      "738/738 [==============================] - 12s 16ms/step - loss: 0.0499 - precision_3: 0.9757 - recall_3: 0.8316 - brier_score_3: 0.0490\n",
      "Epoch 13/20\n",
      "738/738 [==============================] - 13s 17ms/step - loss: 0.0492 - precision_3: 0.9756 - recall_3: 0.8349 - brier_score_3: 0.0489\n",
      "Epoch 14/20\n",
      "738/738 [==============================] - 15s 21ms/step - loss: 0.0490 - precision_3: 0.9790 - recall_3: 0.8324 - brier_score_3: 0.0488\n",
      "Epoch 15/20\n",
      "738/738 [==============================] - 16s 21ms/step - loss: 0.0479 - precision_3: 0.9778 - recall_3: 0.8386 - brier_score_3: 0.0484\n",
      "Epoch 16/20\n",
      "738/738 [==============================] - 11s 15ms/step - loss: 0.0484 - precision_3: 0.9786 - recall_3: 0.8371 - brier_score_3: 0.0482\n",
      "Epoch 17/20\n",
      "738/738 [==============================] - 13s 18ms/step - loss: 0.0477 - precision_3: 0.9778 - recall_3: 0.8386 - brier_score_3: 0.0481\n",
      "Epoch 18/20\n",
      "738/738 [==============================] - 14s 19ms/step - loss: 0.0482 - precision_3: 0.9801 - recall_3: 0.8358 - brier_score_3: 0.0478\n",
      "Epoch 19/20\n",
      "738/738 [==============================] - 13s 17ms/step - loss: 0.0482 - precision_3: 0.9775 - recall_3: 0.8389 - brier_score_3: 0.0480\n",
      "Epoch 20/20\n",
      "738/738 [==============================] - 11s 15ms/step - loss: 0.0483 - precision_3: 0.9784 - recall_3: 0.8372 - brier_score_3: 0.0477\n"
     ]
    },
    {
     "data": {
      "text/plain": [
       "[<matplotlib.lines.Line2D at 0x7ff4f768ce80>]"
      ]
     },
     "execution_count": 56,
     "metadata": {},
     "output_type": "execute_result"
    },
    {
     "data": {
      "image/png": "[encoded data removed]",
      "text/plain": [
       "<Figure size 432x288 with 1 Axes>"
      ]
     },
     "metadata": {
      "needs_background": "light"
     },
     "output_type": "display_data"
    }
   ],
   "source": [
    "history = model2.fit(X_train, y_train, epochs=20, batch_size=256)\n",
    "plt.plot(history.history['loss'])"
   ]
  },
  {
   "cell_type": "markdown",
   "metadata": {},
   "source": [
    "#### 3.4.3 **Tanh** Activation and **RMSprop** Optimizer <a class=\"anchor\" id=\"section_3_4_3\"></a>"
   ]
  },
  {
   "cell_type": "code",
   "execution_count": 59,
   "metadata": {},
   "outputs": [],
   "source": [
    "model3 = AuctionModel(activation=tanh)\n",
    "model3.compile(loss=BrierScoreLoss(),\n",
    "              optimizer=tf.keras.optimizers.RMSprop(),\n",
    "              metrics=[Precision(), Recall(), BrierScore()])"
   ]
  },
  {
   "cell_type": "code",
   "execution_count": 60,
   "metadata": {},
   "outputs": [
    {
     "name": "stdout",
     "output_type": "stream",
     "text": [
      "Epoch 1/20\n",
      "738/738 [==============================] - 12s 13ms/step - loss: 0.0902 - precision_5: 0.8547 - recall_5: 0.7885 - brier_score_5: 0.0719\n",
      "Epoch 2/20\n",
      "738/738 [==============================] - 11s 15ms/step - loss: 0.0611 - precision_5: 0.9360 - recall_5: 0.8190 - brier_score_5: 0.0597\n",
      "Epoch 3/20\n",
      "738/738 [==============================] - 16s 21ms/step - loss: 0.0568 - precision_5: 0.9504 - recall_5: 0.8239 - brier_score_5: 0.0567\n",
      "Epoch 4/20\n",
      "738/738 [==============================] - 13s 17ms/step - loss: 0.0559 - precision_5: 0.9579 - recall_5: 0.8249 - brier_score_5: 0.0546\n",
      "Epoch 5/20\n",
      "738/738 [==============================] - 11s 15ms/step - loss: 0.0540 - precision_5: 0.9617 - recall_5: 0.8265 - brier_score_5: 0.0532\n",
      "Epoch 6/20\n",
      "738/738 [==============================] - 12s 16ms/step - loss: 0.0523 - precision_5: 0.9627 - recall_5: 0.8318 - brier_score_5: 0.0521\n",
      "Epoch 7/20\n",
      "738/738 [==============================] - 14s 19ms/step - loss: 0.0509 - precision_5: 0.9682 - recall_5: 0.8342 - brier_score_5: 0.0512\n",
      "Epoch 8/20\n",
      "738/738 [==============================] - 20s 27ms/step - loss: 0.0511 - precision_5: 0.9691 - recall_5: 0.8324 - brier_score_5: 0.0506\n",
      "Epoch 9/20\n",
      "738/738 [==============================] - 16s 21ms/step - loss: 0.0501 - precision_5: 0.9698 - recall_5: 0.8365 - brier_score_5: 0.0500\n",
      "Epoch 10/20\n",
      "738/738 [==============================] - 12s 16ms/step - loss: 0.0490 - precision_5: 0.9741 - recall_5: 0.8368 - brier_score_5: 0.0495\n",
      "Epoch 11/20\n",
      "738/738 [==============================] - 12s 16ms/step - loss: 0.0497 - precision_5: 0.9726 - recall_5: 0.8358 - brier_score_5: 0.0493\n",
      "Epoch 12/20\n",
      "738/738 [==============================] - 15s 20ms/step - loss: 0.0496 - precision_5: 0.9716 - recall_5: 0.8376 - brier_score_5: 0.0490\n",
      "Epoch 13/20\n",
      "738/738 [==============================] - 15s 20ms/step - loss: 0.0486 - precision_5: 0.9739 - recall_5: 0.8399 - brier_score_5: 0.0487\n",
      "Epoch 14/20\n",
      "738/738 [==============================] - 14s 19ms/step - loss: 0.0490 - precision_5: 0.9755 - recall_5: 0.8363 - brier_score_5: 0.0485\n",
      "Epoch 15/20\n",
      "738/738 [==============================] - 11s 14ms/step - loss: 0.0485 - precision_5: 0.9742 - recall_5: 0.8388 - brier_score_5: 0.0484\n",
      "Epoch 16/20\n",
      "738/738 [==============================] - 15s 20ms/step - loss: 0.0480 - precision_5: 0.9751 - recall_5: 0.8414 - brier_score_5: 0.0481\n",
      "Epoch 17/20\n",
      "738/738 [==============================] - 14s 18ms/step - loss: 0.0483 - precision_5: 0.9760 - recall_5: 0.8389 - brier_score_5: 0.0481\n",
      "Epoch 18/20\n",
      "738/738 [==============================] - 13s 17ms/step - loss: 0.0478 - precision_5: 0.9744 - recall_5: 0.8433 - brier_score_5: 0.0479\n",
      "Epoch 19/20\n",
      "738/738 [==============================] - 11s 16ms/step - loss: 0.0477 - precision_5: 0.9762 - recall_5: 0.8399 - brier_score_5: 0.0478\n",
      "Epoch 20/20\n",
      "738/738 [==============================] - 14s 19ms/step - loss: 0.0479 - precision_5: 0.9757 - recall_5: 0.8407 - brier_score_5: 0.0478\n"
     ]
    },
    {
     "data": {
      "text/plain": [
       "[<matplotlib.lines.Line2D at 0x7ff4f419a130>]"
      ]
     },
     "execution_count": 60,
     "metadata": {},
     "output_type": "execute_result"
    },
    {
     "data": {
      "image/png": "[encoded data removed]",
      "text/plain": [
       "<Figure size 432x288 with 1 Axes>"
      ]
     },
     "metadata": {
      "needs_background": "light"
     },
     "output_type": "display_data"
    }
   ],
   "source": [
    "history = model3.fit(X_train, y_train, epochs=20, batch_size=256)\n",
    "plt.plot(history.history['loss'])"
   ]
  },
  {
   "cell_type": "markdown",
   "metadata": {},
   "source": [
    "#### 3.4.4 **Tanh** Activation and **Adam** Optimizer <a class=\"anchor\" id=\"section_3_4_4\"></a>"
   ]
  },
  {
   "cell_type": "code",
   "execution_count": 40,
   "metadata": {},
   "outputs": [],
   "source": [
    "model4 = AuctionModel(activation=tanh)\n",
    "model4.compile(loss=BrierScoreLoss(),\n",
    "              optimizer=tf.keras.optimizers.Adam(),\n",
    "              metrics=[Precision(), Recall(), BrierScore()])"
   ]
  },
  {
   "cell_type": "code",
   "execution_count": 42,
   "metadata": {},
   "outputs": [
    {
     "name": "stdout",
     "output_type": "stream",
     "text": [
      "Epoch 1/20\n",
      "738/738 [==============================] - 22s 30ms/step - loss: 0.0636 - precision_1: 0.9404 - recall_1: 0.8088 - brier_score_1: 0.0497\n",
      "Epoch 2/20\n",
      "738/738 [==============================] - 25s 34ms/step - loss: 0.0585 - precision_1: 0.9502 - recall_1: 0.8182 - brier_score_1: 0.0447\n",
      "Epoch 3/20\n",
      "738/738 [==============================] - 36s 49ms/step - loss: 0.0557 - precision_1: 0.9585 - recall_1: 0.8243 - brier_score_1: 0.0595\n",
      "Epoch 4/20\n",
      "738/738 [==============================] - 36s 48ms/step - loss: 0.0546 - precision_1: 0.9619 - recall_1: 0.8256 - brier_score_1: 0.0359\n",
      "Epoch 5/20\n",
      "738/738 [==============================] - 32s 43ms/step - loss: 0.0536 - precision_1: 0.9646 - recall_1: 0.8269 - brier_score_1: 0.0730\n",
      "Epoch 6/20\n",
      "738/738 [==============================] - 27s 36ms/step - loss: 0.0521 - precision_1: 0.9686 - recall_1: 0.8305 - brier_score_1: 0.0752\n",
      "Epoch 7/20\n",
      "738/738 [==============================] - 38s 51ms/step - loss: 0.0516 - precision_1: 0.9706 - recall_1: 0.8310 - brier_score_1: 0.0554\n",
      "Epoch 8/20\n",
      "738/738 [==============================] - 34s 46ms/step - loss: 0.0506 - precision_1: 0.9721 - recall_1: 0.8337 - brier_score_1: 0.0809\n",
      "Epoch 9/20\n",
      "738/738 [==============================] - 32s 44ms/step - loss: 0.0500 - precision_1: 0.9733 - recall_1: 0.8345 - brier_score_1: 0.0436\n",
      "Epoch 10/20\n",
      "738/738 [==============================] - 30s 40ms/step - loss: 0.0497 - precision_1: 0.9748 - recall_1: 0.8342 - brier_score_1: 0.0540\n",
      "Epoch 11/20\n",
      "738/738 [==============================] - 32s 44ms/step - loss: 0.0491 - precision_1: 0.9754 - recall_1: 0.8367 - brier_score_1: 0.0468\n",
      "Epoch 12/20\n",
      "738/738 [==============================] - 35s 47ms/step - loss: 0.0492 - precision_1: 0.9757 - recall_1: 0.8358 - brier_score_1: 0.0573\n",
      "Epoch 13/20\n",
      "738/738 [==============================] - 34s 46ms/step - loss: 0.0485 - precision_1: 0.9773 - recall_1: 0.8378 - brier_score_1: 0.0765\n",
      "Epoch 14/20\n",
      "738/738 [==============================] - 32s 44ms/step - loss: 0.0484 - precision_1: 0.9773 - recall_1: 0.8380 - brier_score_1: 0.0820\n",
      "Epoch 15/20\n",
      "738/738 [==============================] - 30s 40ms/step - loss: 0.0482 - precision_1: 0.9780 - recall_1: 0.8394 - brier_score_1: 0.0586\n",
      "Epoch 16/20\n",
      "738/738 [==============================] - 30s 41ms/step - loss: 0.0481 - precision_1: 0.9780 - recall_1: 0.8397 - brier_score_1: 0.0199\n",
      "Epoch 17/20\n",
      "738/738 [==============================] - 29s 40ms/step - loss: 0.0478 - precision_1: 0.9782 - recall_1: 0.8394 - brier_score_1: 0.0526\n",
      "Epoch 18/20\n",
      "738/738 [==============================] - 25s 34ms/step - loss: 0.0476 - precision_1: 0.9787 - recall_1: 0.8396 - brier_score_1: 0.0426\n",
      "Epoch 19/20\n",
      "738/738 [==============================] - 28s 37ms/step - loss: 0.0476 - precision_1: 0.9787 - recall_1: 0.8405 - brier_score_1: 0.0410\n",
      "Epoch 20/20\n",
      "738/738 [==============================] - 28s 38ms/step - loss: 0.0475 - precision_1: 0.9796 - recall_1: 0.8398 - brier_score_1: 0.0442\n"
     ]
    },
    {
     "data": {
      "text/plain": [
       "[<matplotlib.lines.Line2D at 0x7fa28d464820>]"
      ]
     },
     "execution_count": 42,
     "metadata": {},
     "output_type": "execute_result"
    },
    {
     "data": {
      "image/png": "[encoded data removed]",
      "text/plain": [
       "<Figure size 432x288 with 1 Axes>"
      ]
     },
     "metadata": {
      "needs_background": "light"
     },
     "output_type": "display_data"
    }
   ],
   "source": [
    "history = model4.fit(X_train, y_train, epochs=20, batch_size=256)\n",
    "plt.plot(history.history['loss'])"
   ]
  },
  {
   "cell_type": "markdown",
   "metadata": {},
   "source": [
    "### 3.5. Evaluate and test <a class=\"anchor\" id=\"section_3_5\"></a>"
   ]
  },
  {
   "cell_type": "code",
   "execution_count": 28,
   "metadata": {},
   "outputs": [
    {
     "name": "stdout",
     "output_type": "stream",
     "text": [
      "1476/1476 [==============================] - 10s 6ms/step - loss: 0.0468 - precision: 0.9770 - recall: 0.8452 - brier_score: 9.1142e-06\n"
     ]
    },
    {
     "data": {
      "text/plain": [
       "[0.046757593750953674,\n",
       " 0.9770262837409973,\n",
       " 0.8452248573303223,\n",
       " 9.114181011682376e-06]"
      ]
     },
     "execution_count": 28,
     "metadata": {},
     "output_type": "execute_result"
    }
   ],
   "source": [
    "model1.evaluate(X_valid, y_valid)"
   ]
  },
  {
   "cell_type": "code",
   "execution_count": 64,
   "metadata": {},
   "outputs": [
    {
     "name": "stdout",
     "output_type": "stream",
     "text": [
      "1476/1476 [==============================] - 7s 5ms/step - loss: 0.0508 - precision_3: 0.9952 - recall_3: 0.8114 - brier_score_3: 1.0950e-05\n"
     ]
    },
    {
     "data": {
      "text/plain": [
       "[0.050786640495061874,\n",
       " 0.9952497482299805,\n",
       " 0.8113595247268677,\n",
       " 1.0949678653560113e-05]"
      ]
     },
     "execution_count": 64,
     "metadata": {},
     "output_type": "execute_result"
    }
   ],
   "source": [
    "model2.evaluate(X_valid, y_valid)"
   ]
  },
  {
   "cell_type": "code",
   "execution_count": 65,
   "metadata": {},
   "outputs": [
    {
     "name": "stdout",
     "output_type": "stream",
     "text": [
      "1476/1476 [==============================] - 8s 5ms/step - loss: 0.0495 - precision_5: 0.9771 - recall_5: 0.8315 - brier_score_5: 1.0838e-04\n"
     ]
    },
    {
     "data": {
      "text/plain": [
       "[0.04953208565711975,\n",
       " 0.9771097898483276,\n",
       " 0.8315437436103821,\n",
       " 0.00010837586160050705]"
      ]
     },
     "execution_count": 65,
     "metadata": {},
     "output_type": "execute_result"
    }
   ],
   "source": [
    "model3.evaluate(X_valid, y_valid)"
   ]
  },
  {
   "cell_type": "code",
   "execution_count": 66,
   "metadata": {},
   "outputs": [
    {
     "name": "stdout",
     "output_type": "stream",
     "text": [
      "1476/1476 [==============================] - 7s 4ms/step - loss: 0.0531 - precision_6: 0.9391 - recall_6: 0.8546 - brier_score_6: 8.1733e-05\n"
     ]
    },
    {
     "data": {
      "text/plain": [
       "[0.053121283650398254,\n",
       " 0.9390715956687927,\n",
       " 0.8546030521392822,\n",
       " 8.173250535037369e-05]"
      ]
     },
     "execution_count": 66,
     "metadata": {},
     "output_type": "execute_result"
    }
   ],
   "source": [
    "model4.evaluate(X_valid, y_valid)"
   ]
  },
  {
   "cell_type": "markdown",
   "metadata": {},
   "source": [
    "### 3.6 Summary <a class=\"anchor\" id=\"section_3_6\"></a>\n",
    "\n",
    "Each model was trained for 10 epochs.\n",
    "\n",
    "| model \t| activation \t| optimizer \t| training loss \t| test loss \t|\n",
    "|:-----:\t|:----------:\t|:---------:\t|:-------------:\t|:---------:\t|\n",
    "|   1   \t|    relu    \t|  RMSprop  \t|     0.0484    \t|   0.0498  \t|\n",
    "|   2   \t|    relu    \t|    Adam   \t|     0.0483    \t|   0.0508  \t|\n",
    "|   3   \t|    tanh    \t|  RMSprop  \t|     0.0479    \t|   0.0495  \t|\n",
    "|   4   \t|    tanh    \t|    Adam   \t|     0.0471    \t|   0.0531  \t|\n",
    "\n",
    "**Note that:** Values may vary depending on the training."
   ]
  },
  {
   "cell_type": "markdown",
   "metadata": {},
   "source": [
    "### 3.7 Check Monotonicity <a class=\"anchor\" id=\"section_3_7\"></a>\n",
    "\n",
    "Take a positive example from a cross-validation set and check how prediction changes when we check it for price from 0 through 350."
   ]
  },
  {
   "cell_type": "code",
   "execution_count": 33,
   "metadata": {},
   "outputs": [],
   "source": [
    "predictions = []\n",
    "prices = list(range(0, 351, 5))\n",
    "for price in prices:    # 0, 5, 10, ..., 350\n",
    "    pred = model1.predict(np.array([[price, -3.98007213e+00,  3.90689718e+03,  3.12995277e+03,\n",
    "                                     8.29174933e+00, -3.00000000e+00,  2.44770629e+01,  7.10000000e+01,\n",
    "                                     2.00000000e+00]]))\n",
    "    predictions.append(np.squeeze(pred))"
   ]
  },
  {
   "cell_type": "code",
   "execution_count": 38,
   "metadata": {},
   "outputs": [
    {
     "data": {
      "text/plain": [
       "[<matplotlib.lines.Line2D at 0x7fa28d708340>]"
      ]
     },
     "execution_count": 38,
     "metadata": {},
     "output_type": "execute_result"
    },
    {
     "data": {
      "image/png": "[encoded data removed]",
      "text/plain": [
       "<Figure size 432x288 with 1 Axes>"
      ]
     },
     "metadata": {
      "needs_background": "light"
     },
     "output_type": "display_data"
    }
   ],
   "source": [
    "%matplotlib inline\n",
    "\n",
    "plt.xlabel('price')\n",
    "plt.ylabel('probability')\n",
    "plt.title('Probability w.r.t. price')\n",
    "plt.plot(prices[20:45], predictions[20:45])"
   ]
  },
  {
   "cell_type": "markdown",
   "metadata": {},
   "source": [
    "## 4. Submission <a class=\"anchor\" id=\"section_4\"></a>"
   ]
  },
  {
   "cell_type": "markdown",
   "metadata": {},
   "source": [
    "### 4.1. Load Test Data <a class=\"anchor\" id=\"section_4_1\"></a>"
   ]
  },
  {
   "cell_type": "code",
   "execution_count": 67,
   "metadata": {},
   "outputs": [
    {
     "data": {
      "text/html": [
       "<div>\n",
       "<style scoped>\n",
       "    .dataframe tbody tr th:only-of-type {\n",
       "        vertical-align: middle;\n",
       "    }\n",
       "\n",
       "    .dataframe tbody tr th {\n",
       "        vertical-align: top;\n",
       "    }\n",
       "\n",
       "    .dataframe thead th {\n",
       "        text-align: right;\n",
       "    }\n",
       "</style>\n",
       "<table border=\"1\" class=\"dataframe\">\n",
       "  <thead>\n",
       "    <tr style=\"text-align: right;\">\n",
       "      <th></th>\n",
       "      <th>Price</th>\n",
       "      <th>Coupon</th>\n",
       "      <th>Notional</th>\n",
       "      <th>Maturity</th>\n",
       "      <th>Sensitivity</th>\n",
       "      <th>Liquidity</th>\n",
       "      <th>Complexity</th>\n",
       "      <th>ParticipantCount</th>\n",
       "      <th>Country</th>\n",
       "    </tr>\n",
       "  </thead>\n",
       "  <tbody>\n",
       "    <tr>\n",
       "      <th>0</th>\n",
       "      <td>110.953080</td>\n",
       "      <td>-32.485046</td>\n",
       "      <td>5350.658940</td>\n",
       "      <td>1436.489276</td>\n",
       "      <td>-77.171353</td>\n",
       "      <td>44</td>\n",
       "      <td>-38.714659</td>\n",
       "      <td>26</td>\n",
       "      <td>ITALY</td>\n",
       "    </tr>\n",
       "    <tr>\n",
       "      <th>1</th>\n",
       "      <td>140.850376</td>\n",
       "      <td>0.440454</td>\n",
       "      <td>72.040632</td>\n",
       "      <td>72.585150</td>\n",
       "      <td>1.559459</td>\n",
       "      <td>0</td>\n",
       "      <td>-0.234735</td>\n",
       "      <td>70</td>\n",
       "      <td>GERMANY</td>\n",
       "    </tr>\n",
       "    <tr>\n",
       "      <th>2</th>\n",
       "      <td>157.958941</td>\n",
       "      <td>6.978652</td>\n",
       "      <td>7775.279188</td>\n",
       "      <td>2067.585552</td>\n",
       "      <td>11.133403</td>\n",
       "      <td>3</td>\n",
       "      <td>-22.302563</td>\n",
       "      <td>63</td>\n",
       "      <td>ITALY</td>\n",
       "    </tr>\n",
       "    <tr>\n",
       "      <th>3</th>\n",
       "      <td>135.223870</td>\n",
       "      <td>16.524465</td>\n",
       "      <td>4745.298698</td>\n",
       "      <td>3832.112845</td>\n",
       "      <td>15.156011</td>\n",
       "      <td>0</td>\n",
       "      <td>-20.855772</td>\n",
       "      <td>71</td>\n",
       "      <td>GERMANY</td>\n",
       "    </tr>\n",
       "    <tr>\n",
       "      <th>4</th>\n",
       "      <td>105.645099</td>\n",
       "      <td>-11.955790</td>\n",
       "      <td>5088.156163</td>\n",
       "      <td>1332.633665</td>\n",
       "      <td>-26.440183</td>\n",
       "      <td>13</td>\n",
       "      <td>22.576246</td>\n",
       "      <td>81</td>\n",
       "      <td>AUSTRIA</td>\n",
       "    </tr>\n",
       "  </tbody>\n",
       "</table>\n",
       "</div>"
      ],
      "text/plain": [
       "        Price     Coupon     Notional     Maturity  Sensitivity  Liquidity  \\\n",
       "0  110.953080 -32.485046  5350.658940  1436.489276   -77.171353         44   \n",
       "1  140.850376   0.440454    72.040632    72.585150     1.559459          0   \n",
       "2  157.958941   6.978652  7775.279188  2067.585552    11.133403          3   \n",
       "3  135.223870  16.524465  4745.298698  3832.112845    15.156011          0   \n",
       "4  105.645099 -11.955790  5088.156163  1332.633665   -26.440183         13   \n",
       "\n",
       "   Complexity  ParticipantCount  Country  \n",
       "0  -38.714659                26    ITALY  \n",
       "1   -0.234735                70  GERMANY  \n",
       "2  -22.302563                63    ITALY  \n",
       "3  -20.855772                71  GERMANY  \n",
       "4   22.576246                81  AUSTRIA  "
      ]
     },
     "execution_count": 67,
     "metadata": {},
     "output_type": "execute_result"
    }
   ],
   "source": [
    "test_data = pd.read_csv('test_final.csv')\n",
    "test_data.head()"
   ]
  },
  {
   "cell_type": "markdown",
   "metadata": {},
   "source": [
    "### 4.2. Tokenize Countries <a class=\"anchor\" id=\"section_4_2\"></a>"
   ]
  },
  {
   "cell_type": "code",
   "execution_count": 68,
   "metadata": {},
   "outputs": [
    {
     "data": {
      "text/html": [
       "<div>\n",
       "<style scoped>\n",
       "    .dataframe tbody tr th:only-of-type {\n",
       "        vertical-align: middle;\n",
       "    }\n",
       "\n",
       "    .dataframe tbody tr th {\n",
       "        vertical-align: top;\n",
       "    }\n",
       "\n",
       "    .dataframe thead th {\n",
       "        text-align: right;\n",
       "    }\n",
       "</style>\n",
       "<table border=\"1\" class=\"dataframe\">\n",
       "  <thead>\n",
       "    <tr style=\"text-align: right;\">\n",
       "      <th></th>\n",
       "      <th>Price</th>\n",
       "      <th>Coupon</th>\n",
       "      <th>Notional</th>\n",
       "      <th>Maturity</th>\n",
       "      <th>Sensitivity</th>\n",
       "      <th>Liquidity</th>\n",
       "      <th>Complexity</th>\n",
       "      <th>ParticipantCount</th>\n",
       "      <th>Country</th>\n",
       "    </tr>\n",
       "  </thead>\n",
       "  <tbody>\n",
       "    <tr>\n",
       "      <th>0</th>\n",
       "      <td>110.953080</td>\n",
       "      <td>-32.485046</td>\n",
       "      <td>5350.658940</td>\n",
       "      <td>1436.489276</td>\n",
       "      <td>-77.171353</td>\n",
       "      <td>44</td>\n",
       "      <td>-38.714659</td>\n",
       "      <td>26</td>\n",
       "      <td>1</td>\n",
       "    </tr>\n",
       "    <tr>\n",
       "      <th>1</th>\n",
       "      <td>140.850376</td>\n",
       "      <td>0.440454</td>\n",
       "      <td>72.040632</td>\n",
       "      <td>72.585150</td>\n",
       "      <td>1.559459</td>\n",
       "      <td>0</td>\n",
       "      <td>-0.234735</td>\n",
       "      <td>70</td>\n",
       "      <td>2</td>\n",
       "    </tr>\n",
       "    <tr>\n",
       "      <th>2</th>\n",
       "      <td>157.958941</td>\n",
       "      <td>6.978652</td>\n",
       "      <td>7775.279188</td>\n",
       "      <td>2067.585552</td>\n",
       "      <td>11.133403</td>\n",
       "      <td>3</td>\n",
       "      <td>-22.302563</td>\n",
       "      <td>63</td>\n",
       "      <td>1</td>\n",
       "    </tr>\n",
       "    <tr>\n",
       "      <th>3</th>\n",
       "      <td>135.223870</td>\n",
       "      <td>16.524465</td>\n",
       "      <td>4745.298698</td>\n",
       "      <td>3832.112845</td>\n",
       "      <td>15.156011</td>\n",
       "      <td>0</td>\n",
       "      <td>-20.855772</td>\n",
       "      <td>71</td>\n",
       "      <td>2</td>\n",
       "    </tr>\n",
       "    <tr>\n",
       "      <th>4</th>\n",
       "      <td>105.645099</td>\n",
       "      <td>-11.955790</td>\n",
       "      <td>5088.156163</td>\n",
       "      <td>1332.633665</td>\n",
       "      <td>-26.440183</td>\n",
       "      <td>13</td>\n",
       "      <td>22.576246</td>\n",
       "      <td>81</td>\n",
       "      <td>7</td>\n",
       "    </tr>\n",
       "  </tbody>\n",
       "</table>\n",
       "</div>"
      ],
      "text/plain": [
       "        Price     Coupon     Notional     Maturity  Sensitivity  Liquidity  \\\n",
       "0  110.953080 -32.485046  5350.658940  1436.489276   -77.171353         44   \n",
       "1  140.850376   0.440454    72.040632    72.585150     1.559459          0   \n",
       "2  157.958941   6.978652  7775.279188  2067.585552    11.133403          3   \n",
       "3  135.223870  16.524465  4745.298698  3832.112845    15.156011          0   \n",
       "4  105.645099 -11.955790  5088.156163  1332.633665   -26.440183         13   \n",
       "\n",
       "   Complexity  ParticipantCount  Country  \n",
       "0  -38.714659                26        1  \n",
       "1   -0.234735                70        2  \n",
       "2  -22.302563                63        1  \n",
       "3  -20.855772                71        2  \n",
       "4   22.576246                81        7  "
      ]
     },
     "execution_count": 68,
     "metadata": {},
     "output_type": "execute_result"
    }
   ],
   "source": [
    "test_data['Country'] = np.squeeze(tokenizer.texts_to_sequences(test_data['Country']))\n",
    "test_data.head()"
   ]
  },
  {
   "cell_type": "markdown",
   "metadata": {},
   "source": [
    "### 4.3. Predict and save <a class=\"anchor\" id=\"section_4_3\"></a>"
   ]
  },
  {
   "cell_type": "code",
   "execution_count": 69,
   "metadata": {},
   "outputs": [],
   "source": [
    "predictions = model1.predict(np.array(test_data))"
   ]
  },
  {
   "cell_type": "code",
   "execution_count": 70,
   "metadata": {},
   "outputs": [],
   "source": [
    "np.savetxt(\"mateusz_nedzi_submission.csv\", predictions, delimiter=\",\")"
   ]
  },
  {
   "cell_type": "markdown",
   "metadata": {},
   "source": [
    "## 5. Histogram-Based Gradient Boosting (additional solution)"
   ]
  },
  {
   "cell_type": "markdown",
   "metadata": {},
   "source": [
    "### imports"
   ]
  },
  {
   "cell_type": "code",
   "execution_count": 35,
   "metadata": {},
   "outputs": [],
   "source": [
    "from sklearn.model_selection import cross_val_score\n",
    "from sklearn.model_selection import RepeatedStratifiedKFold\n",
    "from sklearn.experimental import enable_hist_gradient_boosting\n",
    "from sklearn.ensemble import HistGradientBoostingClassifier"
   ]
  },
  {
   "cell_type": "markdown",
   "metadata": {},
   "source": [
    "### 5.1. Load, preprocess and normalize data"
   ]
  },
  {
   "cell_type": "code",
   "execution_count": 55,
   "metadata": {},
   "outputs": [],
   "source": [
    "dataFrameGradient = pd.read_csv('train_final.csv')\n",
    "dataFrameGradient.drop_duplicates(keep=False, inplace=True)\n",
    "\n",
    "tokenizer = Tokenizer(num_words=10, lower=False)\n",
    "tokenizer.fit_on_texts(dataFrameGradient['Country'])\n",
    "dataFrameGradient['Country'] = np.squeeze(tokenizer.texts_to_sequences(dataFrameGradient['Country']))\n",
    "dataFrameGradient.head()\n",
    "\n",
    "mean = np.array(dataFrameGradient.drop(columns=['Won']).mean())\n",
    "std = np.array(dataFrameGradient.drop(columns=['Won']).std())\n",
    "\n",
    "X_grad = np.array(trainingDataFrame.drop(columns=['Won']))\n",
    "y_grad = np.array(trainingDataFrame['Won'], dtype='float')\n",
    "\n",
    "X_grad = (X_grad - mean) / std\n",
    "\n",
    "X_grad_train, X_grad_valid, y_grad_train, y_grad_valid = train_test_split(X, y, test_size=0.2)\n",
    "\n"
   ]
  },
  {
   "cell_type": "markdown",
   "metadata": {},
   "source": [
    "### 5.2. Define and train the model"
   ]
  },
  {
   "cell_type": "code",
   "execution_count": 57,
   "metadata": {},
   "outputs": [],
   "source": [
    "gradientBoostingModel = HistGradientBoostingClassifier(max_bins=255, max_iter=100)"
   ]
  },
  {
   "cell_type": "code",
   "execution_count": 58,
   "metadata": {},
   "outputs": [
    {
     "data": {
      "text/plain": [
       "HistGradientBoostingClassifier()"
      ]
     },
     "execution_count": 58,
     "metadata": {},
     "output_type": "execute_result"
    }
   ],
   "source": [
    "gradientBoostingModel.fit(X_grad_train, y_grad_train)"
   ]
  },
  {
   "cell_type": "code",
   "execution_count": 59,
   "metadata": {},
   "outputs": [
    {
     "data": {
      "text/plain": [
       "0.9286682767679335"
      ]
     },
     "execution_count": 59,
     "metadata": {},
     "output_type": "execute_result"
    }
   ],
   "source": [
    "gradientBoostingModel.score(X_grad_valid, y_grad_valid)"
   ]
  },
  {
   "cell_type": "markdown",
   "metadata": {},
   "source": [
    "### 5.3. Check Monotonicity"
   ]
  },
  {
   "cell_type": "code",
   "execution_count": 61,
   "metadata": {},
   "outputs": [],
   "source": [
    "predictions = []\n",
    "prices = list(range(0, 351, 5))\n",
    "for price in prices:    # 0, 5, 10, ..., 350\n",
    "    pred = gradientBoostingModel.predict_proba((np.array([[165, -3.98007213e+00,  3.90689718e+03,  3.12995277e+03,\n",
    "                                     8.29174933e+00, -3.00000000e+00,  2.44770629e+01,  7.10000000e+01,\n",
    "                                     2.00000000e+00]]) - mean) / std)\n",
    "    predictions.append(np.squeeze(pred[0, 1]))"
   ]
  },
  {
   "cell_type": "code",
   "execution_count": 62,
   "metadata": {},
   "outputs": [
    {
     "data": {
      "text/plain": [
       "[<matplotlib.lines.Line2D at 0x7fd2a2c21fa0>]"
      ]
     },
     "execution_count": 62,
     "metadata": {},
     "output_type": "execute_result"
    },
    {
     "data": {
      "image/png": "[encoded data removed]",
      "text/plain": [
       "<Figure size 432x288 with 1 Axes>"
      ]
     },
     "metadata": {
      "needs_background": "light"
     },
     "output_type": "display_data"
    }
   ],
   "source": [
    "%matplotlib inline\n",
    "\n",
    "plt.xlabel('price')\n",
    "plt.ylabel('probability')\n",
    "plt.title('Probability w.r.t. price')\n",
    "plt.plot(prices[20:45], predictions[20:45])"
   ]
  }
 ],
 "metadata": {
  "interpreter": {
   "hash": "11e9d9fdbf9047f688966c76949758b6f7cc66ce0e5baecbe379c1f5d4738880"
  },
  "kernelspec": {
   "display_name": "Python 3.9.7 ('bitcoin')",
   "language": "python",
   "name": "python3"
  },
  "language_info": {
   "codemirror_mode": {
    "name": "ipython",
    "version": 3
   },
   "file_extension": ".py",
   "mimetype": "text/x-python",
   "name": "python",
   "nbconvert_exporter": "python",
   "pygments_lexer": "ipython3",
   "version": "3.9.7"
  },
  "orig_nbformat": 4
 },
 "nbformat": 4,
 "nbformat_minor": 2
}
